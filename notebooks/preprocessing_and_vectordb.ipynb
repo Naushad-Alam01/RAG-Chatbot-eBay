{
 "cells": [
  {
   "cell_type": "code",
   "execution_count": 6,
   "id": "242b94d2",
   "metadata": {},
   "outputs": [
    {
     "name": "stdout",
     "output_type": "stream",
     "text": [
      "Defaulting to user installation because normal site-packages is not writeable\n",
      "Collecting python-docx\n",
      "  Obtaining dependency information for python-docx from https://files.pythonhosted.org/packages/d0/00/1e03a4989fa5795da308cd774f05b704ace555a70f9bf9d3be057b680bcf/python_docx-1.2.0-py3-none-any.whl.metadata\n",
      "  Downloading python_docx-1.2.0-py3-none-any.whl.metadata (2.0 kB)\n",
      "Requirement already satisfied: lxml>=3.1.0 in c:\\programdata\\anaconda3\\lib\\site-packages (from python-docx) (4.9.2)\n",
      "Collecting typing_extensions>=4.9.0 (from python-docx)\n",
      "  Obtaining dependency information for typing_extensions>=4.9.0 from https://files.pythonhosted.org/packages/69/e0/552843e0d356fbb5256d21449fa957fa4eff3bbc135a74a691ee70c7c5da/typing_extensions-4.14.0-py3-none-any.whl.metadata\n",
      "  Downloading typing_extensions-4.14.0-py3-none-any.whl.metadata (3.0 kB)\n",
      "Downloading python_docx-1.2.0-py3-none-any.whl (252 kB)\n",
      "   ---------------------------------------- 0.0/253.0 kB ? eta -:--:--\n",
      "   ------ --------------------------------- 41.0/253.0 kB 1.9 MB/s eta 0:00:01\n",
      "   -------------------------------- ------- 204.8/253.0 kB 3.1 MB/s eta 0:00:01\n",
      "   ---------------------------------------- 253.0/253.0 kB 3.1 MB/s eta 0:00:00\n",
      "Downloading typing_extensions-4.14.0-py3-none-any.whl (43 kB)\n",
      "   ---------------------------------------- 0.0/43.8 kB ? eta -:--:--\n",
      "   ---------------------------------------- 43.8/43.8 kB 2.1 MB/s eta 0:00:00\n",
      "Installing collected packages: typing_extensions, python-docx\n",
      "Successfully installed python-docx-1.2.0 typing_extensions-4.14.0\n"
     ]
    }
   ],
   "source": [
    "!pip install python-docx"
   ]
  },
  {
   "cell_type": "code",
   "execution_count": 8,
   "id": "4e65fc60",
   "metadata": {},
   "outputs": [
    {
     "name": "stdout",
     "output_type": "stream",
     "text": [
      "User Agreement\n",
      "1. Introduction\n",
      "This User Agreement, the Mobile Application Terms of Use, and all policies and additional terms posted on and in our sites, applications, tools, and services (collectively \"Services\") set out the terms on which eBay offers you access to and use of our Services. You can find an overview of our policies here. The Mobile Application Terms of Use, all policies, and additional terms posted on and in our Services are incorporated into this User Agreement. You agree to comply with all terms of this User Agreement when accessing or using our Services.\n",
      "The entity you are contracting with is: eBay Inc., 2025 Hamilton Ave., San Jose, CA 95125, if you reside in the United States; eBay (UK) Limited, 1 More London Place, London, SE1 2AF, United Kingdom, if you reside in the United Kingdom; eBay GmbH, Albert-Einstein-Ring 2-6, 14532 Kleinmachnow, Germany, if you reside in the European Union; eBay Canada Limited, 240 Richmond Street West, 2nd Floor Suite 02-100, Toronto,\n"
     ]
    }
   ],
   "source": [
    "from docx import Document\n",
    "\n",
    "def load_and_clean_docx(file_path):\n",
    "    doc = Document(file_path)\n",
    "    text = \"\\n\".join([para.text.strip() for para in doc.paragraphs if para.text.strip()])\n",
    "    return text\n",
    "\n",
    "# Now call the function with the file path\n",
    "text = load_and_clean_docx(\"C:\\\\Users\\\\NAUSHAD\\\\Downloads\\\\Ebay user agreement.docx\")\n",
    "print(text[:1000])  # print first 1000 characters to verify\n"
   ]
  },
  {
   "cell_type": "code",
   "execution_count": 9,
   "id": "a6f56272",
   "metadata": {},
   "outputs": [
    {
     "name": "stdout",
     "output_type": "stream",
     "text": [
      "Defaulting to user installation because normal site-packages is not writeable\n",
      "Requirement already satisfied: nltk in c:\\programdata\\anaconda3\\lib\\site-packages (3.8.1)\n",
      "Requirement already satisfied: click in c:\\programdata\\anaconda3\\lib\\site-packages (from nltk) (8.0.4)\n",
      "Requirement already satisfied: joblib in c:\\programdata\\anaconda3\\lib\\site-packages (from nltk) (1.2.0)\n",
      "Requirement already satisfied: regex>=2021.8.3 in c:\\programdata\\anaconda3\\lib\\site-packages (from nltk) (2022.7.9)\n",
      "Requirement already satisfied: tqdm in c:\\programdata\\anaconda3\\lib\\site-packages (from nltk) (4.65.0)\n",
      "Requirement already satisfied: colorama in c:\\programdata\\anaconda3\\lib\\site-packages (from click->nltk) (0.4.6)\n"
     ]
    }
   ],
   "source": [
    "!pip install nltk"
   ]
  },
  {
   "cell_type": "code",
   "execution_count": 10,
   "id": "ed813530",
   "metadata": {},
   "outputs": [
    {
     "name": "stderr",
     "output_type": "stream",
     "text": [
      "[nltk_data] Downloading package punkt to\n",
      "[nltk_data]     C:\\Users\\NAUSHAD\\AppData\\Roaming\\nltk_data...\n",
      "[nltk_data]   Unzipping tokenizers\\punkt.zip.\n"
     ]
    },
    {
     "data": {
      "text/plain": [
       "True"
      ]
     },
     "execution_count": 10,
     "metadata": {},
     "output_type": "execute_result"
    }
   ],
   "source": [
    "import nltk\n",
    "nltk.download('punkt')\n"
   ]
  },
  {
   "cell_type": "code",
   "execution_count": 16,
   "id": "b2d5f018",
   "metadata": {},
   "outputs": [
    {
     "name": "stdout",
     "output_type": "stream",
     "text": [
      "Total chunks: 40\n",
      "\n",
      "Sample chunk:\n",
      "\n",
      "User Agreement\n",
      "1. Introduction\n",
      "This User Agreement, the Mobile Application Terms of Use, and all policies and additional terms posted on and in our sites, applications, tools, and services (collectively \"Services\") set out the terms on which eBay offers you access to and use of our Services. You can find an overview of our policies here. The Mobile Application Terms of Use, all policies, and additional terms posted on and in our Services are incorporated into this User Agreement. You agree to comply with all terms of this User Agreement when accessing or using our Services. The entity you are contracting with is: eBay Inc., 2025 Hamilton Ave., San Jose, CA 95125, if you reside in the United States; eBay (UK) Limited, 1 More London Place, London, SE1 2AF, United Kingdom, if you reside in the United Kingdom; eBay GmbH, Albert-Einstein-Ring 2-6, 14532 Kleinmachnow, Germany, if you reside in the European Union; eBay Canada Limited, 240 Richmond Street West, 2nd Floor Suite 02-100, Toronto, ON, M5V 1V6, Canada, if you reside in Canada; eBay Singapore Services Private Limited, 1 Raffles Quay, #18- 00, Singapore 048583, if you reside in India; and eBay Marketplaces GmbH, Helvetiastrasse 15/17, CH-3005, Bern, Switzerland, if you reside in any other country. In this User Agreement, these entities are individually and collectively referred to as \"eBay,\" \"we,\" or \"us.\" If you reside in India and you register for our Services, you further agree to the eBay.in User Agreement. Read this User Agreement carefully as it contains provisions that govern how claims you and we have against each other are resolved (see \"Disclaimer of Warranties; Limitation of Liability\" and \"Legal Disputes\" provisions below).\n"
     ]
    }
   ],
   "source": [
    "from nltk.tokenize import sent_tokenize\n",
    "\n",
    "def chunk_text(text, max_words=300):\n",
    "    sentences = sent_tokenize(text)\n",
    "    chunks = []\n",
    "    current_chunk = []\n",
    "    current_length = 0\n",
    "\n",
    "    for sentence in sentences:\n",
    "        word_count = len(sentence.split())\n",
    "        if current_length + word_count > max_words:\n",
    "            chunks.append(\" \".join(current_chunk))\n",
    "            current_chunk = [sentence]\n",
    "            current_length = word_count\n",
    "        else:\n",
    "            current_chunk.append(sentence)\n",
    "            current_length += word_count\n",
    "\n",
    "    if current_chunk:\n",
    "        chunks.append(\" \".join(current_chunk))\n",
    "\n",
    "    return chunks\n",
    "\n",
    "# Apply to your document text\n",
    "chunks = chunk_text(text)\n",
    "\n",
    "# Optional: Check the number of chunks\n",
    "print(f\"Total chunks: {len(chunks)}\")\n",
    "print(\"\\nSample chunk:\\n\")\n",
    "print(chunks[0])\n"
   ]
  },
  {
   "cell_type": "code",
   "execution_count": 17,
   "id": "41c6b119",
   "metadata": {},
   "outputs": [
    {
     "name": "stdout",
     "output_type": "stream",
     "text": [
      "Defaulting to user installation because normal site-packages is not writeable\n",
      "Requirement already satisfied: sentence-transformers in c:\\users\\naushad\\appdata\\roaming\\python\\python311\\site-packages (4.1.0)\n",
      "Requirement already satisfied: transformers<5.0.0,>=4.41.0 in c:\\users\\naushad\\appdata\\roaming\\python\\python311\\site-packages (from sentence-transformers) (4.52.4)\n",
      "Requirement already satisfied: tqdm in c:\\programdata\\anaconda3\\lib\\site-packages (from sentence-transformers) (4.65.0)\n",
      "Requirement already satisfied: torch>=1.11.0 in c:\\users\\naushad\\appdata\\roaming\\python\\python311\\site-packages (from sentence-transformers) (2.7.1)\n",
      "Requirement already satisfied: scikit-learn in c:\\programdata\\anaconda3\\lib\\site-packages (from sentence-transformers) (1.3.0)\n",
      "Requirement already satisfied: scipy in c:\\programdata\\anaconda3\\lib\\site-packages (from sentence-transformers) (1.10.1)\n",
      "Requirement already satisfied: huggingface-hub>=0.20.0 in c:\\users\\naushad\\appdata\\roaming\\python\\python311\\site-packages (from sentence-transformers) (0.33.0)\n",
      "Requirement already satisfied: Pillow in c:\\programdata\\anaconda3\\lib\\site-packages (from sentence-transformers) (9.4.0)\n",
      "Requirement already satisfied: typing_extensions>=4.5.0 in c:\\users\\naushad\\appdata\\roaming\\python\\python311\\site-packages (from sentence-transformers) (4.14.0)\n",
      "Requirement already satisfied: filelock in c:\\programdata\\anaconda3\\lib\\site-packages (from huggingface-hub>=0.20.0->sentence-transformers) (3.9.0)\n",
      "Requirement already satisfied: fsspec>=2023.5.0 in c:\\users\\naushad\\appdata\\roaming\\python\\python311\\site-packages (from huggingface-hub>=0.20.0->sentence-transformers) (2025.5.1)\n",
      "Requirement already satisfied: packaging>=20.9 in c:\\programdata\\anaconda3\\lib\\site-packages (from huggingface-hub>=0.20.0->sentence-transformers) (23.0)\n",
      "Requirement already satisfied: pyyaml>=5.1 in c:\\programdata\\anaconda3\\lib\\site-packages (from huggingface-hub>=0.20.0->sentence-transformers) (6.0)\n",
      "Requirement already satisfied: requests in c:\\programdata\\anaconda3\\lib\\site-packages (from huggingface-hub>=0.20.0->sentence-transformers) (2.31.0)\n",
      "Requirement already satisfied: sympy>=1.13.3 in c:\\users\\naushad\\appdata\\roaming\\python\\python311\\site-packages (from torch>=1.11.0->sentence-transformers) (1.14.0)\n",
      "Requirement already satisfied: networkx in c:\\programdata\\anaconda3\\lib\\site-packages (from torch>=1.11.0->sentence-transformers) (3.1)\n",
      "Requirement already satisfied: jinja2 in c:\\programdata\\anaconda3\\lib\\site-packages (from torch>=1.11.0->sentence-transformers) (3.1.2)\n",
      "Requirement already satisfied: colorama in c:\\programdata\\anaconda3\\lib\\site-packages (from tqdm->sentence-transformers) (0.4.6)\n",
      "Requirement already satisfied: numpy>=1.17 in c:\\programdata\\anaconda3\\lib\\site-packages (from transformers<5.0.0,>=4.41.0->sentence-transformers) (1.24.3)\n",
      "Requirement already satisfied: regex!=2019.12.17 in c:\\programdata\\anaconda3\\lib\\site-packages (from transformers<5.0.0,>=4.41.0->sentence-transformers) (2022.7.9)\n",
      "Requirement already satisfied: tokenizers<0.22,>=0.21 in c:\\users\\naushad\\appdata\\roaming\\python\\python311\\site-packages (from transformers<5.0.0,>=4.41.0->sentence-transformers) (0.21.2)\n",
      "Requirement already satisfied: safetensors>=0.4.3 in c:\\users\\naushad\\appdata\\roaming\\python\\python311\\site-packages (from transformers<5.0.0,>=4.41.0->sentence-transformers) (0.5.3)\n",
      "Requirement already satisfied: joblib>=1.1.1 in c:\\programdata\\anaconda3\\lib\\site-packages (from scikit-learn->sentence-transformers) (1.2.0)\n",
      "Requirement already satisfied: threadpoolctl>=2.0.0 in c:\\programdata\\anaconda3\\lib\\site-packages (from scikit-learn->sentence-transformers) (2.2.0)\n",
      "Requirement already satisfied: mpmath<1.4,>=1.1.0 in c:\\programdata\\anaconda3\\lib\\site-packages (from sympy>=1.13.3->torch>=1.11.0->sentence-transformers) (1.3.0)\n",
      "Requirement already satisfied: MarkupSafe>=2.0 in c:\\programdata\\anaconda3\\lib\\site-packages (from jinja2->torch>=1.11.0->sentence-transformers) (2.1.1)\n",
      "Requirement already satisfied: charset-normalizer<4,>=2 in c:\\programdata\\anaconda3\\lib\\site-packages (from requests->huggingface-hub>=0.20.0->sentence-transformers) (2.0.4)\n",
      "Requirement already satisfied: idna<4,>=2.5 in c:\\programdata\\anaconda3\\lib\\site-packages (from requests->huggingface-hub>=0.20.0->sentence-transformers) (3.4)\n",
      "Requirement already satisfied: urllib3<3,>=1.21.1 in c:\\programdata\\anaconda3\\lib\\site-packages (from requests->huggingface-hub>=0.20.0->sentence-transformers) (1.26.16)\n",
      "Requirement already satisfied: certifi>=2017.4.17 in c:\\programdata\\anaconda3\\lib\\site-packages (from requests->huggingface-hub>=0.20.0->sentence-transformers) (2023.7.22)\n"
     ]
    }
   ],
   "source": [
    "!pip install sentence-transformers"
   ]
  },
  {
   "cell_type": "code",
   "execution_count": 1,
   "id": "e21d2728",
   "metadata": {},
   "outputs": [
    {
     "data": {
      "application/vnd.jupyter.widget-view+json": {
       "model_id": "5ff8645dba6749a08d92f10c9f716791",
       "version_major": 2,
       "version_minor": 0
      },
      "text/plain": [
       "modules.json:   0%|          | 0.00/349 [00:00<?, ?B/s]"
      ]
     },
     "metadata": {},
     "output_type": "display_data"
    },
    {
     "name": "stderr",
     "output_type": "stream",
     "text": [
      "C:\\Users\\NAUSHAD\\AppData\\Roaming\\Python\\Python311\\site-packages\\huggingface_hub\\file_download.py:143: UserWarning: `huggingface_hub` cache-system uses symlinks by default to efficiently store duplicated files but your machine does not support them in C:\\Users\\NAUSHAD\\.cache\\huggingface\\hub\\models--sentence-transformers--all-MiniLM-L6-v2. Caching files will still work but in a degraded version that might require more space on your disk. This warning can be disabled by setting the `HF_HUB_DISABLE_SYMLINKS_WARNING` environment variable. For more details, see https://huggingface.co/docs/huggingface_hub/how-to-cache#limitations.\n",
      "To support symlinks on Windows, you either need to activate Developer Mode or to run Python as an administrator. In order to activate developer mode, see this article: https://docs.microsoft.com/en-us/windows/apps/get-started/enable-your-device-for-development\n",
      "  warnings.warn(message)\n"
     ]
    },
    {
     "data": {
      "application/vnd.jupyter.widget-view+json": {
       "model_id": "fd5e4fc738d1435db7d3c4e4503c34ba",
       "version_major": 2,
       "version_minor": 0
      },
      "text/plain": [
       "config_sentence_transformers.json:   0%|          | 0.00/116 [00:00<?, ?B/s]"
      ]
     },
     "metadata": {},
     "output_type": "display_data"
    },
    {
     "data": {
      "application/vnd.jupyter.widget-view+json": {
       "model_id": "9b3880265e374bedb65cb1ab097790b8",
       "version_major": 2,
       "version_minor": 0
      },
      "text/plain": [
       "README.md: 0.00B [00:00, ?B/s]"
      ]
     },
     "metadata": {},
     "output_type": "display_data"
    },
    {
     "data": {
      "application/vnd.jupyter.widget-view+json": {
       "model_id": "ab27fb55de22488aa0c4664a23875017",
       "version_major": 2,
       "version_minor": 0
      },
      "text/plain": [
       "sentence_bert_config.json:   0%|          | 0.00/53.0 [00:00<?, ?B/s]"
      ]
     },
     "metadata": {},
     "output_type": "display_data"
    },
    {
     "data": {
      "application/vnd.jupyter.widget-view+json": {
       "model_id": "42ae4039efbe4a3a8c0710e7847729a7",
       "version_major": 2,
       "version_minor": 0
      },
      "text/plain": [
       "config.json:   0%|          | 0.00/612 [00:00<?, ?B/s]"
      ]
     },
     "metadata": {},
     "output_type": "display_data"
    },
    {
     "name": "stderr",
     "output_type": "stream",
     "text": [
      "Xet Storage is enabled for this repo, but the 'hf_xet' package is not installed. Falling back to regular HTTP download. For better performance, install the package with: `pip install huggingface_hub[hf_xet]` or `pip install hf_xet`\n"
     ]
    },
    {
     "data": {
      "application/vnd.jupyter.widget-view+json": {
       "model_id": "b5f945930a27492ca9de26a477620a80",
       "version_major": 2,
       "version_minor": 0
      },
      "text/plain": [
       "model.safetensors:   0%|          | 0.00/90.9M [00:00<?, ?B/s]"
      ]
     },
     "metadata": {},
     "output_type": "display_data"
    },
    {
     "data": {
      "application/vnd.jupyter.widget-view+json": {
       "model_id": "a07d1e2414f9439eb4fe2a87ba6b7ffb",
       "version_major": 2,
       "version_minor": 0
      },
      "text/plain": [
       "tokenizer_config.json:   0%|          | 0.00/350 [00:00<?, ?B/s]"
      ]
     },
     "metadata": {},
     "output_type": "display_data"
    },
    {
     "data": {
      "application/vnd.jupyter.widget-view+json": {
       "model_id": "09f7e6f9fece44a0809ec863dbea5d50",
       "version_major": 2,
       "version_minor": 0
      },
      "text/plain": [
       "vocab.txt: 0.00B [00:00, ?B/s]"
      ]
     },
     "metadata": {},
     "output_type": "display_data"
    },
    {
     "data": {
      "application/vnd.jupyter.widget-view+json": {
       "model_id": "94c4d276d8bc42e68c230165d46fdc7a",
       "version_major": 2,
       "version_minor": 0
      },
      "text/plain": [
       "tokenizer.json: 0.00B [00:00, ?B/s]"
      ]
     },
     "metadata": {},
     "output_type": "display_data"
    },
    {
     "data": {
      "application/vnd.jupyter.widget-view+json": {
       "model_id": "96afa0985a254c79914b5dd1f38d5be9",
       "version_major": 2,
       "version_minor": 0
      },
      "text/plain": [
       "special_tokens_map.json:   0%|          | 0.00/112 [00:00<?, ?B/s]"
      ]
     },
     "metadata": {},
     "output_type": "display_data"
    },
    {
     "data": {
      "application/vnd.jupyter.widget-view+json": {
       "model_id": "29afd77f73ae42a9b23df5272a5fdb79",
       "version_major": 2,
       "version_minor": 0
      },
      "text/plain": [
       "config.json:   0%|          | 0.00/190 [00:00<?, ?B/s]"
      ]
     },
     "metadata": {},
     "output_type": "display_data"
    },
    {
     "ename": "NameError",
     "evalue": "name 'chunks' is not defined",
     "output_type": "error",
     "traceback": [
      "\u001b[1;31m---------------------------------------------------------------------------\u001b[0m",
      "\u001b[1;31mNameError\u001b[0m                                 Traceback (most recent call last)",
      "Cell \u001b[1;32mIn[1], line 8\u001b[0m\n\u001b[0;32m      5\u001b[0m model \u001b[38;5;241m=\u001b[39m SentenceTransformer(\u001b[38;5;124m\"\u001b[39m\u001b[38;5;124mall-MiniLM-L6-v2\u001b[39m\u001b[38;5;124m\"\u001b[39m)  \u001b[38;5;66;03m# You can also try 'bge-small-en' later\u001b[39;00m\n\u001b[0;32m      7\u001b[0m \u001b[38;5;66;03m# Generate embeddings for all chunks\u001b[39;00m\n\u001b[1;32m----> 8\u001b[0m embeddings \u001b[38;5;241m=\u001b[39m model\u001b[38;5;241m.\u001b[39mencode(chunks, show_progress_bar\u001b[38;5;241m=\u001b[39m\u001b[38;5;28;01mTrue\u001b[39;00m)\n\u001b[0;32m     10\u001b[0m \u001b[38;5;66;03m# Optional: save to disk\u001b[39;00m\n\u001b[0;32m     11\u001b[0m np\u001b[38;5;241m.\u001b[39msave(\u001b[38;5;124m\"\u001b[39m\u001b[38;5;124mchunks.npy\u001b[39m\u001b[38;5;124m\"\u001b[39m, chunks)\n",
      "\u001b[1;31mNameError\u001b[0m: name 'chunks' is not defined"
     ]
    }
   ],
   "source": [
    "from sentence_transformers import SentenceTransformer\n",
    "import numpy as np\n",
    "\n",
    "# Load a pre-trained embedding model\n",
    "model = SentenceTransformer(\"all-MiniLM-L6-v2\")  # You can also try 'bge-small-en' later\n",
    "\n",
    "# Generate embeddings for all chunks\n",
    "embeddings = model.encode(chunks, show_progress_bar=True)\n",
    "\n",
    "# Optional: save to disk\n",
    "np.save(\"chunks.npy\", chunks)\n",
    "np.save(\"embeddings.npy\", embeddings)\n",
    "\n",
    "print(\"Embedding shape:\", embeddings.shape)\n"
   ]
  },
  {
   "cell_type": "code",
   "execution_count": 2,
   "id": "22f34d6c",
   "metadata": {},
   "outputs": [
    {
     "name": "stderr",
     "output_type": "stream",
     "text": [
      "[nltk_data] Downloading package punkt to\n",
      "[nltk_data]     C:\\Users\\NAUSHAD\\AppData\\Roaming\\nltk_data...\n",
      "[nltk_data]   Package punkt is already up-to-date!\n"
     ]
    },
    {
     "ename": "NameError",
     "evalue": "name 'text' is not defined",
     "output_type": "error",
     "traceback": [
      "\u001b[1;31m---------------------------------------------------------------------------\u001b[0m",
      "\u001b[1;31mNameError\u001b[0m                                 Traceback (most recent call last)",
      "Cell \u001b[1;32mIn[2], line 28\u001b[0m\n\u001b[0;32m     25\u001b[0m     \u001b[38;5;28;01mreturn\u001b[39;00m chunks\n\u001b[0;32m     27\u001b[0m \u001b[38;5;66;03m# Apply chunking\u001b[39;00m\n\u001b[1;32m---> 28\u001b[0m chunks \u001b[38;5;241m=\u001b[39m chunk_text(text)\n\u001b[0;32m     30\u001b[0m \u001b[38;5;28mprint\u001b[39m(\u001b[38;5;124mf\u001b[39m\u001b[38;5;124m\"\u001b[39m\u001b[38;5;124mTotal chunks: \u001b[39m\u001b[38;5;132;01m{\u001b[39;00m\u001b[38;5;28mlen\u001b[39m(chunks)\u001b[38;5;132;01m}\u001b[39;00m\u001b[38;5;124m\"\u001b[39m)\n\u001b[0;32m     31\u001b[0m \u001b[38;5;28mprint\u001b[39m(\u001b[38;5;124m\"\u001b[39m\u001b[38;5;124mSample chunk:\u001b[39m\u001b[38;5;130;01m\\n\u001b[39;00m\u001b[38;5;124m\"\u001b[39m, chunks[\u001b[38;5;241m0\u001b[39m])\n",
      "\u001b[1;31mNameError\u001b[0m: name 'text' is not defined"
     ]
    }
   ],
   "source": [
    "from nltk.tokenize import sent_tokenize\n",
    "import nltk\n",
    "\n",
    "nltk.download('punkt')\n",
    "\n",
    "def chunk_text(text, max_words=300):\n",
    "    sentences = sent_tokenize(text)\n",
    "    chunks = []\n",
    "    current_chunk = []\n",
    "    current_length = 0\n",
    "\n",
    "    for sentence in sentences:\n",
    "        word_count = len(sentence.split())\n",
    "        if current_length + word_count > max_words:\n",
    "            chunks.append(\" \".join(current_chunk))\n",
    "            current_chunk = [sentence]\n",
    "            current_length = word_count\n",
    "        else:\n",
    "            current_chunk.append(sentence)\n",
    "            current_length += word_count\n",
    "\n",
    "    if current_chunk:\n",
    "        chunks.append(\" \".join(current_chunk))\n",
    "\n",
    "    return chunks\n",
    "\n",
    "# Apply chunking\n",
    "chunks = chunk_text(text)\n",
    "\n",
    "print(f\"Total chunks: {len(chunks)}\")\n",
    "print(\"Sample chunk:\\n\", chunks[0])\n"
   ]
  },
  {
   "cell_type": "code",
   "execution_count": 5,
   "id": "930311aa",
   "metadata": {},
   "outputs": [
    {
     "name": "stdout",
     "output_type": "stream",
     "text": [
      "Document loaded. Sample text:\n",
      "\n",
      "User Agreement\n",
      "1. Introduction\n",
      "This User Agreement, the Mobile Application Terms of Use, and all policies and additional terms posted on and in our sites, applications, tools, and services (collectively \"Services\") set out the terms on which eBay offers you access to and use of our Services. You can find an overview of our policies here. The Mobile Application Terms of Use, all policies, and additional terms posted on and in our Services are incorporated into this User Agreement. You agree to co\n"
     ]
    }
   ],
   "source": [
    "from docx import Document\n",
    "\n",
    "def load_and_clean_docx(file_path):\n",
    "    doc = Document(file_path)\n",
    "    text = \"\\n\".join([para.text.strip() for para in doc.paragraphs if para.text.strip()])\n",
    "    return text\n",
    "\n",
    "# 🔥 Load document into 'text'\n",
    "text = load_and_clean_docx(r\"C:\\Users\\NAUSHAD\\Downloads\\Ebay user agreement.docx\")\n",
    "\n",
    "print(\"Document loaded. Sample text:\\n\")\n",
    "print(text[:500])  # Print preview\n"
   ]
  },
  {
   "cell_type": "code",
   "execution_count": 6,
   "id": "082c4d2f",
   "metadata": {},
   "outputs": [
    {
     "name": "stdout",
     "output_type": "stream",
     "text": [
      "Total chunks: 40\n",
      "\n",
      "Sample chunk:\n",
      "\n",
      "User Agreement\n",
      "1. Introduction\n",
      "This User Agreement, the Mobile Application Terms of Use, and all policies and additional terms posted on and in our sites, applications, tools, and services (collectively \"Services\") set out the terms on which eBay offers you access to and use of our Services. You can find an overview of our policies here. The Mobile Application Terms of Use, all policies, and additional terms posted on and in our Services are incorporated into this User Agreement. You agree to comply with all terms of this User Agreement when accessing or using our Services. The entity you are contracting with is: eBay Inc., 2025 Hamilton Ave., San Jose, CA 95125, if you reside in the United States; eBay (UK) Limited, 1 More London Place, London, SE1 2AF, United Kingdom, if you reside in the United Kingdom; eBay GmbH, Albert-Einstein-Ring 2-6, 14532 Kleinmachnow, Germany, if you reside in the European Union; eBay Canada Limited, 240 Richmond Street West, 2nd Floor Suite 02-100, Toronto, ON, M5V 1V6, Canada, if you reside in Canada; eBay Singapore Services Private Limited, 1 Raffles Quay, #18- 00, Singapore 048583, if you reside in India; and eBay Marketplaces GmbH, Helvetiastrasse 15/17, CH-3005, Bern, Switzerland, if you reside in any other country. In this User Agreement, these entities are individually and collectively referred to as \"eBay,\" \"we,\" or \"us.\" If you reside in India and you register for our Services, you further agree to the eBay.in User Agreement. Read this User Agreement carefully as it contains provisions that govern how claims you and we have against each other are resolved (see \"Disclaimer of Warranties; Limitation of Liability\" and \"Legal Disputes\" provisions below).\n"
     ]
    },
    {
     "name": "stderr",
     "output_type": "stream",
     "text": [
      "[nltk_data] Downloading package punkt to\n",
      "[nltk_data]     C:\\Users\\NAUSHAD\\AppData\\Roaming\\nltk_data...\n",
      "[nltk_data]   Package punkt is already up-to-date!\n"
     ]
    }
   ],
   "source": [
    "from nltk.tokenize import sent_tokenize\n",
    "import nltk\n",
    "\n",
    "nltk.download('punkt')\n",
    "\n",
    "def chunk_text(text, max_words=300):\n",
    "    sentences = sent_tokenize(text)\n",
    "    chunks = []\n",
    "    current_chunk = []\n",
    "    current_length = 0\n",
    "\n",
    "    for sentence in sentences:\n",
    "        word_count = len(sentence.split())\n",
    "        if current_length + word_count > max_words:\n",
    "            chunks.append(\" \".join(current_chunk))\n",
    "            current_chunk = [sentence]\n",
    "            current_length = word_count\n",
    "        else:\n",
    "            current_chunk.append(sentence)\n",
    "            current_length += word_count\n",
    "\n",
    "    if current_chunk:\n",
    "        chunks.append(\" \".join(current_chunk))\n",
    "\n",
    "    return chunks\n",
    "\n",
    "# 🔥 Apply chunking\n",
    "chunks = chunk_text(text)\n",
    "\n",
    "print(f\"Total chunks: {len(chunks)}\")\n",
    "print(\"\\nSample chunk:\\n\")\n",
    "print(chunks[0])\n"
   ]
  },
  {
   "cell_type": "code",
   "execution_count": 7,
   "id": "9311cb08",
   "metadata": {},
   "outputs": [
    {
     "data": {
      "application/vnd.jupyter.widget-view+json": {
       "model_id": "62d4b66e07d348b1966d8c104bc76c6c",
       "version_major": 2,
       "version_minor": 0
      },
      "text/plain": [
       "Batches:   0%|          | 0/2 [00:00<?, ?it/s]"
      ]
     },
     "metadata": {},
     "output_type": "display_data"
    },
    {
     "name": "stdout",
     "output_type": "stream",
     "text": [
      "Embeddings shape: (40, 384)\n"
     ]
    }
   ],
   "source": [
    "from sentence_transformers import SentenceTransformer\n",
    "import numpy as np\n",
    "\n",
    "model = SentenceTransformer(\"all-MiniLM-L6-v2\")\n",
    "\n",
    "embeddings = model.encode(chunks, show_progress_bar=True)\n",
    "\n",
    "# Optional: Save for reuse\n",
    "np.save(\"chunks.npy\", chunks)\n",
    "np.save(\"embeddings.npy\", embeddings)\n",
    "\n",
    "print(\"Embeddings shape:\", embeddings.shape)\n"
   ]
  },
  {
   "cell_type": "code",
   "execution_count": 6,
   "id": "2b0d1d85",
   "metadata": {},
   "outputs": [
    {
     "name": "stdout",
     "output_type": "stream",
     "text": [
      "Defaulting to user installation because normal site-packages is not writeable\n",
      "Collecting faiss-cpu\n",
      "  Obtaining dependency information for faiss-cpu from https://files.pythonhosted.org/packages/7f/9a/accade34b8668b21206c0c4cf0b96cd0b750b693ba5b255c1c10cfee460f/faiss_cpu-1.11.0-cp311-cp311-win_amd64.whl.metadata\n",
      "  Downloading faiss_cpu-1.11.0-cp311-cp311-win_amd64.whl.metadata (5.0 kB)\n",
      "Collecting numpy<3.0,>=1.25.0 (from faiss-cpu)\n",
      "  Obtaining dependency information for numpy<3.0,>=1.25.0 from https://files.pythonhosted.org/packages/6b/fb/bb613f4122c310a13ec67585c70e14b03bfc7ebabd24f4d5138b97371d7c/numpy-2.3.1-cp311-cp311-win_amd64.whl.metadata\n",
      "  Downloading numpy-2.3.1-cp311-cp311-win_amd64.whl.metadata (60 kB)\n",
      "     ---------------------------------------- 0.0/60.9 kB ? eta -:--:--\n",
      "     ---------------------------------------- 60.9/60.9 kB ? eta 0:00:00\n",
      "Requirement already satisfied: packaging in c:\\programdata\\anaconda3\\lib\\site-packages (from faiss-cpu) (23.0)\n",
      "Downloading faiss_cpu-1.11.0-cp311-cp311-win_amd64.whl (15.0 MB)\n",
      "   ---------------------------------------- 0.0/15.0 MB ? eta -:--:--\n",
      "   ---------------------------------------- 0.1/15.0 MB ? eta -:--:--\n",
      "   ---------------------------------------- 0.2/15.0 MB 2.4 MB/s eta 0:00:07\n",
      "    --------------------------------------- 0.2/15.0 MB 1.9 MB/s eta 0:00:08\n",
      "    --------------------------------------- 0.2/15.0 MB 1.9 MB/s eta 0:00:08\n",
      "    --------------------------------------- 0.3/15.0 MB 1.4 MB/s eta 0:00:11\n",
      "    --------------------------------------- 0.3/15.0 MB 1.4 MB/s eta 0:00:11\n",
      "   - -------------------------------------- 0.4/15.0 MB 1.2 MB/s eta 0:00:12\n",
      "   - -------------------------------------- 0.4/15.0 MB 1.2 MB/s eta 0:00:12\n",
      "   - -------------------------------------- 0.4/15.0 MB 1.2 MB/s eta 0:00:12\n",
      "   - -------------------------------------- 0.5/15.0 MB 1.3 MB/s eta 0:00:12\n",
      "   - -------------------------------------- 0.5/15.0 MB 1.3 MB/s eta 0:00:12\n",
      "   - -------------------------------------- 0.6/15.0 MB 1.2 MB/s eta 0:00:13\n",
      "   - -------------------------------------- 0.7/15.0 MB 1.3 MB/s eta 0:00:12\n",
      "   - -------------------------------------- 0.7/15.0 MB 1.3 MB/s eta 0:00:12\n",
      "   -- ------------------------------------- 0.8/15.0 MB 1.2 MB/s eta 0:00:12\n",
      "   -- ------------------------------------- 0.8/15.0 MB 1.2 MB/s eta 0:00:12\n",
      "   -- ------------------------------------- 0.9/15.0 MB 1.2 MB/s eta 0:00:12\n",
      "   -- ------------------------------------- 0.9/15.0 MB 1.2 MB/s eta 0:00:12\n",
      "   -- ------------------------------------- 0.9/15.0 MB 1.1 MB/s eta 0:00:13\n",
      "   -- ------------------------------------- 0.9/15.0 MB 1.1 MB/s eta 0:00:13\n",
      "   -- ------------------------------------- 1.1/15.0 MB 1.1 MB/s eta 0:00:13\n",
      "   -- ------------------------------------- 1.1/15.0 MB 1.1 MB/s eta 0:00:13\n",
      "   --- ------------------------------------ 1.3/15.0 MB 1.3 MB/s eta 0:00:11\n",
      "   --- ------------------------------------ 1.4/15.0 MB 1.3 MB/s eta 0:00:11\n",
      "   --- ------------------------------------ 1.5/15.0 MB 1.3 MB/s eta 0:00:11\n",
      "   --- ------------------------------------ 1.5/15.0 MB 1.3 MB/s eta 0:00:11\n",
      "   ---- ----------------------------------- 1.5/15.0 MB 1.3 MB/s eta 0:00:11\n",
      "   ---- ----------------------------------- 1.7/15.0 MB 1.4 MB/s eta 0:00:10\n",
      "   ---- ----------------------------------- 1.7/15.0 MB 1.4 MB/s eta 0:00:10\n",
      "   ---- ----------------------------------- 1.8/15.0 MB 1.3 MB/s eta 0:00:10\n",
      "   ---- ----------------------------------- 1.8/15.0 MB 1.3 MB/s eta 0:00:10\n",
      "   ----- ---------------------------------- 1.9/15.0 MB 1.3 MB/s eta 0:00:10\n",
      "   ----- ---------------------------------- 1.9/15.0 MB 1.3 MB/s eta 0:00:10\n",
      "   ----- ---------------------------------- 1.9/15.0 MB 1.3 MB/s eta 0:00:11\n",
      "   ----- ---------------------------------- 1.9/15.0 MB 1.3 MB/s eta 0:00:11\n",
      "   ----- ---------------------------------- 1.9/15.0 MB 1.3 MB/s eta 0:00:11\n",
      "   ----- ---------------------------------- 1.9/15.0 MB 1.3 MB/s eta 0:00:11\n",
      "   ----- ---------------------------------- 1.9/15.0 MB 1.3 MB/s eta 0:00:11\n",
      "   ----- ---------------------------------- 1.9/15.0 MB 1.3 MB/s eta 0:00:11\n",
      "   ----- ---------------------------------- 1.9/15.0 MB 1.3 MB/s eta 0:00:11\n",
      "   ----- ---------------------------------- 1.9/15.0 MB 1.3 MB/s eta 0:00:11\n",
      "   ----- ---------------------------------- 1.9/15.0 MB 1.3 MB/s eta 0:00:11\n",
      "   ----- ---------------------------------- 1.9/15.0 MB 1.3 MB/s eta 0:00:11\n",
      "   ----- ---------------------------------- 1.9/15.0 MB 1.3 MB/s eta 0:00:11\n",
      "   ----- ---------------------------------- 1.9/15.0 MB 1.3 MB/s eta 0:00:11\n",
      "   ----- ---------------------------------- 1.9/15.0 MB 1.3 MB/s eta 0:00:11\n",
      "   ----- ---------------------------------- 1.9/15.0 MB 1.3 MB/s eta 0:00:11\n",
      "   ----- ---------------------------------- 1.9/15.0 MB 1.3 MB/s eta 0:00:11\n",
      "   ----- ---------------------------------- 1.9/15.0 MB 1.3 MB/s eta 0:00:11\n",
      "   ----- ---------------------------------- 1.9/15.0 MB 1.3 MB/s eta 0:00:11\n",
      "   ----- ---------------------------------- 1.9/15.0 MB 1.3 MB/s eta 0:00:11\n",
      "   ----- ---------------------------------- 1.9/15.0 MB 1.3 MB/s eta 0:00:11\n",
      "   ----- ---------------------------------- 1.9/15.0 MB 1.3 MB/s eta 0:00:11\n",
      "   ----- ---------------------------------- 1.9/15.0 MB 1.3 MB/s eta 0:00:11\n",
      "   ----- ---------------------------------- 2.0/15.0 MB 801.1 kB/s eta 0:00:17\n",
      "   ----- ---------------------------------- 2.0/15.0 MB 801.1 kB/s eta 0:00:17\n",
      "   ----- ---------------------------------- 2.0/15.0 MB 801.1 kB/s eta 0:00:17\n",
      "   ----- ---------------------------------- 2.1/15.0 MB 794.2 kB/s eta 0:00:17\n",
      "   ----- ---------------------------------- 2.2/15.0 MB 799.3 kB/s eta 0:00:17\n",
      "   ------ --------------------------------- 2.3/15.0 MB 832.3 kB/s eta 0:00:16\n",
      "   ------ --------------------------------- 2.3/15.0 MB 829.3 kB/s eta 0:00:16\n",
      "   ------ --------------------------------- 2.3/15.0 MB 829.3 kB/s eta 0:00:16\n",
      "   ------ --------------------------------- 2.4/15.0 MB 838.1 kB/s eta 0:00:16\n",
      "   ------ --------------------------------- 2.4/15.0 MB 838.1 kB/s eta 0:00:16\n",
      "   ------ --------------------------------- 2.4/15.0 MB 838.1 kB/s eta 0:00:16\n",
      "   ------ --------------------------------- 2.4/15.0 MB 838.1 kB/s eta 0:00:16\n",
      "   ------ --------------------------------- 2.4/15.0 MB 838.1 kB/s eta 0:00:16\n",
      "   ------ --------------------------------- 2.4/15.0 MB 838.1 kB/s eta 0:00:16\n",
      "   ------- -------------------------------- 2.6/15.0 MB 826.4 kB/s eta 0:00:15\n",
      "   ------- -------------------------------- 2.6/15.0 MB 826.4 kB/s eta 0:00:15\n",
      "   ------- -------------------------------- 2.6/15.0 MB 826.4 kB/s eta 0:00:15\n",
      "   ------- -------------------------------- 2.7/15.0 MB 797.4 kB/s eta 0:00:16\n",
      "   ------- -------------------------------- 2.7/15.0 MB 797.4 kB/s eta 0:00:16\n",
      "   ------- -------------------------------- 2.7/15.0 MB 797.4 kB/s eta 0:00:16\n",
      "   ------- -------------------------------- 2.7/15.0 MB 797.4 kB/s eta 0:00:16\n",
      "   ------- -------------------------------- 2.7/15.0 MB 797.4 kB/s eta 0:00:16\n",
      "   ------- -------------------------------- 2.7/15.0 MB 747.7 kB/s eta 0:00:17\n",
      "   ------- -------------------------------- 2.7/15.0 MB 764.1 kB/s eta 0:00:17\n",
      "   ------- -------------------------------- 2.7/15.0 MB 764.1 kB/s eta 0:00:17\n",
      "   ------- -------------------------------- 2.7/15.0 MB 764.1 kB/s eta 0:00:17\n",
      "   ------- -------------------------------- 2.7/15.0 MB 764.1 kB/s eta 0:00:17\n",
      "   ------- -------------------------------- 2.7/15.0 MB 764.1 kB/s eta 0:00:17\n",
      "   ------- -------------------------------- 2.7/15.0 MB 764.1 kB/s eta 0:00:17\n",
      "   ------- -------------------------------- 2.7/15.0 MB 764.1 kB/s eta 0:00:17\n",
      "   ------- -------------------------------- 2.7/15.0 MB 764.1 kB/s eta 0:00:17\n",
      "   ------- -------------------------------- 2.7/15.0 MB 764.1 kB/s eta 0:00:17\n",
      "   ------- -------------------------------- 2.7/15.0 MB 764.1 kB/s eta 0:00:17\n",
      "   ------- -------------------------------- 2.7/15.0 MB 764.1 kB/s eta 0:00:17\n",
      "   ------- -------------------------------- 2.7/15.0 MB 764.1 kB/s eta 0:00:17\n",
      "   ------- -------------------------------- 2.7/15.0 MB 764.1 kB/s eta 0:00:17\n",
      "   ------- -------------------------------- 2.7/15.0 MB 764.1 kB/s eta 0:00:17\n",
      "   ------- -------------------------------- 2.7/15.0 MB 764.1 kB/s eta 0:00:17\n",
      "   ------- -------------------------------- 2.8/15.0 MB 648.2 kB/s eta 0:00:19\n",
      "   ------- -------------------------------- 2.8/15.0 MB 648.2 kB/s eta 0:00:19\n",
      "   ------- -------------------------------- 2.9/15.0 MB 655.4 kB/s eta 0:00:19\n",
      "   ------- -------------------------------- 2.9/15.0 MB 657.7 kB/s eta 0:00:19\n",
      "   ------- -------------------------------- 2.9/15.0 MB 657.7 kB/s eta 0:00:19\n",
      "   ------- -------------------------------- 2.9/15.0 MB 648.5 kB/s eta 0:00:19\n",
      "   ------- -------------------------------- 2.9/15.0 MB 648.5 kB/s eta 0:00:19\n",
      "   -------- ------------------------------- 3.0/15.0 MB 653.2 kB/s eta 0:00:19\n",
      "   -------- ------------------------------- 3.0/15.0 MB 653.2 kB/s eta 0:00:19\n",
      "   -------- ------------------------------- 3.1/15.0 MB 666.3 kB/s eta 0:00:18\n",
      "   -------- ------------------------------- 3.1/15.0 MB 666.3 kB/s eta 0:00:18\n",
      "   -------- ------------------------------- 3.3/15.0 MB 685.1 kB/s eta 0:00:18\n",
      "   -------- ------------------------------- 3.3/15.0 MB 685.1 kB/s eta 0:00:18\n",
      "   --------- ------------------------------ 3.4/15.0 MB 694.9 kB/s eta 0:00:17\n",
      "   --------- ------------------------------ 3.4/15.0 MB 694.9 kB/s eta 0:00:17\n",
      "   --------- ------------------------------ 3.5/15.0 MB 685.9 kB/s eta 0:00:17\n",
      "   --------- ------------------------------ 3.5/15.0 MB 685.9 kB/s eta 0:00:17\n",
      "   --------- ------------------------------ 3.5/15.0 MB 685.9 kB/s eta 0:00:17\n",
      "   --------- ------------------------------ 3.6/15.0 MB 695.1 kB/s eta 0:00:17\n",
      "   --------- ------------------------------ 3.6/15.0 MB 688.8 kB/s eta 0:00:17\n",
      "   ---------- ----------------------------- 3.8/15.0 MB 718.1 kB/s eta 0:00:16\n",
      "   ---------- ----------------------------- 3.8/15.0 MB 713.1 kB/s eta 0:00:16\n",
      "   ---------- ----------------------------- 3.9/15.0 MB 738.0 kB/s eta 0:00:15\n",
      "   ---------- ----------------------------- 3.9/15.0 MB 738.0 kB/s eta 0:00:15\n",
      "   ---------- ----------------------------- 4.0/15.0 MB 734.7 kB/s eta 0:00:15\n",
      "   ---------- ----------------------------- 4.0/15.0 MB 736.1 kB/s eta 0:00:15\n",
      "   ----------- ---------------------------- 4.1/15.0 MB 744.0 kB/s eta 0:00:15\n",
      "   ----------- ---------------------------- 4.3/15.0 MB 763.9 kB/s eta 0:00:15\n",
      "   ----------- ---------------------------- 4.4/15.0 MB 777.3 kB/s eta 0:00:14\n",
      "   ----------- ---------------------------- 4.4/15.0 MB 780.3 kB/s eta 0:00:14\n",
      "   ------------ --------------------------- 4.6/15.0 MB 805.4 kB/s eta 0:00:13\n",
      "   ------------ --------------------------- 4.6/15.0 MB 805.4 kB/s eta 0:00:13\n",
      "   ------------ --------------------------- 4.6/15.0 MB 805.4 kB/s eta 0:00:13\n",
      "   ------------ --------------------------- 4.8/15.0 MB 818.3 kB/s eta 0:00:13\n",
      "   ------------ --------------------------- 4.8/15.0 MB 818.3 kB/s eta 0:00:13\n",
      "   ------------ --------------------------- 4.9/15.0 MB 819.1 kB/s eta 0:00:13\n",
      "   ------------ --------------------------- 4.9/15.0 MB 819.1 kB/s eta 0:00:13\n",
      "   ------------- -------------------------- 4.9/15.0 MB 811.1 kB/s eta 0:00:13\n",
      "   ------------- -------------------------- 5.0/15.0 MB 827.2 kB/s eta 0:00:13\n",
      "   ------------- -------------------------- 5.0/15.0 MB 827.2 kB/s eta 0:00:13\n",
      "   ------------- -------------------------- 5.1/15.0 MB 821.3 kB/s eta 0:00:13\n",
      "   ------------- -------------------------- 5.1/15.0 MB 821.3 kB/s eta 0:00:13\n",
      "   ------------- -------------------------- 5.1/15.0 MB 821.3 kB/s eta 0:00:13\n",
      "   ------------- -------------------------- 5.1/15.0 MB 821.3 kB/s eta 0:00:13\n",
      "   ------------- -------------------------- 5.2/15.0 MB 812.3 kB/s eta 0:00:13\n",
      "   ------------- -------------------------- 5.2/15.0 MB 812.3 kB/s eta 0:00:13\n",
      "   ------------- -------------------------- 5.2/15.0 MB 812.3 kB/s eta 0:00:13\n",
      "   ------------- -------------------------- 5.2/15.0 MB 812.3 kB/s eta 0:00:13\n",
      "   -------------- ------------------------- 5.3/15.0 MB 811.3 kB/s eta 0:00:12\n",
      "   -------------- ------------------------- 5.4/15.0 MB 820.7 kB/s eta 0:00:12\n",
      "   -------------- ------------------------- 5.4/15.0 MB 820.7 kB/s eta 0:00:12\n",
      "   -------------- ------------------------- 5.4/15.0 MB 820.7 kB/s eta 0:00:12\n",
      "   -------------- ------------------------- 5.4/15.0 MB 820.7 kB/s eta 0:00:12\n",
      "   -------------- ------------------------- 5.4/15.0 MB 820.7 kB/s eta 0:00:12\n",
      "   -------------- ------------------------- 5.4/15.0 MB 820.7 kB/s eta 0:00:12\n",
      "   -------------- ------------------------- 5.4/15.0 MB 820.7 kB/s eta 0:00:12\n",
      "   -------------- ------------------------- 5.4/15.0 MB 820.7 kB/s eta 0:00:12\n",
      "   -------------- ------------------------- 5.4/15.0 MB 820.7 kB/s eta 0:00:12\n",
      "   -------------- ------------------------- 5.4/15.0 MB 820.7 kB/s eta 0:00:12\n",
      "   -------------- ------------------------- 5.4/15.0 MB 820.7 kB/s eta 0:00:12\n",
      "   -------------- ------------------------- 5.4/15.0 MB 820.7 kB/s eta 0:00:12\n",
      "   -------------- ------------------------- 5.4/15.0 MB 820.7 kB/s eta 0:00:12\n",
      "   -------------- ------------------------- 5.4/15.0 MB 820.7 kB/s eta 0:00:12\n",
      "   -------------- ------------------------- 5.4/15.0 MB 820.7 kB/s eta 0:00:12\n",
      "   -------------- ------------------------- 5.4/15.0 MB 820.7 kB/s eta 0:00:12\n",
      "   --------------- ------------------------ 5.8/15.0 MB 793.9 kB/s eta 0:00:12\n",
      "   --------------- ------------------------ 5.8/15.0 MB 793.9 kB/s eta 0:00:12\n",
      "   --------------- ------------------------ 5.8/15.0 MB 793.9 kB/s eta 0:00:12\n",
      "   --------------- ------------------------ 5.8/15.0 MB 793.9 kB/s eta 0:00:12\n",
      "   --------------- ------------------------ 5.8/15.0 MB 793.9 kB/s eta 0:00:12\n",
      "   --------------- ------------------------ 5.9/15.0 MB 774.3 kB/s eta 0:00:12\n",
      "   --------------- ------------------------ 5.9/15.0 MB 774.3 kB/s eta 0:00:12\n",
      "   --------------- ------------------------ 6.0/15.0 MB 775.5 kB/s eta 0:00:12\n",
      "   --------------- ------------------------ 6.0/15.0 MB 775.5 kB/s eta 0:00:12\n",
      "   --------------- ------------------------ 6.0/15.0 MB 768.7 kB/s eta 0:00:12\n",
      "   ---------------- ----------------------- 6.1/15.0 MB 785.1 kB/s eta 0:00:12\n",
      "   ---------------- ----------------------- 6.2/15.0 MB 781.5 kB/s eta 0:00:12\n",
      "   ---------------- ----------------------- 6.2/15.0 MB 785.1 kB/s eta 0:00:12\n",
      "   ---------------- ----------------------- 6.2/15.0 MB 783.0 kB/s eta 0:00:12\n",
      "   ---------------- ----------------------- 6.2/15.0 MB 783.0 kB/s eta 0:00:12\n",
      "   ---------------- ----------------------- 6.2/15.0 MB 783.0 kB/s eta 0:00:12\n",
      "   ---------------- ----------------------- 6.3/15.0 MB 775.5 kB/s eta 0:00:12\n",
      "   ---------------- ----------------------- 6.3/15.0 MB 780.1 kB/s eta 0:00:12\n",
      "   ----------------- ---------------------- 6.6/15.0 MB 807.9 kB/s eta 0:00:11\n",
      "   ----------------- ---------------------- 6.6/15.0 MB 807.9 kB/s eta 0:00:11\n",
      "   ----------------- ---------------------- 6.6/15.0 MB 807.9 kB/s eta 0:00:11\n",
      "   ----------------- ---------------------- 6.6/15.0 MB 807.9 kB/s eta 0:00:11\n",
      "   ----------------- ---------------------- 6.6/15.0 MB 807.9 kB/s eta 0:00:11\n",
      "   ----------------- ---------------------- 6.6/15.0 MB 807.9 kB/s eta 0:00:11\n",
      "   ----------------- ---------------------- 6.7/15.0 MB 789.4 kB/s eta 0:00:11\n",
      "   ----------------- ---------------------- 6.7/15.0 MB 789.4 kB/s eta 0:00:11\n",
      "   ------------------ --------------------- 6.8/15.0 MB 787.6 kB/s eta 0:00:11\n",
      "   ------------------ --------------------- 6.8/15.0 MB 786.0 kB/s eta 0:00:11\n",
      "   ------------------ --------------------- 6.8/15.0 MB 786.0 kB/s eta 0:00:11\n",
      "   ------------------ --------------------- 6.9/15.0 MB 790.2 kB/s eta 0:00:11\n",
      "   ------------------ --------------------- 6.9/15.0 MB 787.2 kB/s eta 0:00:11\n",
      "   ------------------ --------------------- 7.0/15.0 MB 789.7 kB/s eta 0:00:11\n",
      "   ------------------ --------------------- 7.0/15.0 MB 789.7 kB/s eta 0:00:11\n",
      "   ------------------- -------------------- 7.2/15.0 MB 807.1 kB/s eta 0:00:10\n",
      "   ------------------- -------------------- 7.4/15.0 MB 820.1 kB/s eta 0:00:10\n",
      "   ------------------- -------------------- 7.5/15.0 MB 825.7 kB/s eta 0:00:10\n",
      "   -------------------- ------------------- 7.5/15.0 MB 831.9 kB/s eta 0:00:09\n",
      "   -------------------- ------------------- 7.5/15.0 MB 831.9 kB/s eta 0:00:09\n",
      "   -------------------- ------------------- 7.5/15.0 MB 831.9 kB/s eta 0:00:09\n",
      "   -------------------- ------------------- 7.6/15.0 MB 821.2 kB/s eta 0:00:10\n",
      "   -------------------- ------------------- 7.7/15.0 MB 829.2 kB/s eta 0:00:09\n",
      "   -------------------- ------------------- 7.7/15.0 MB 830.2 kB/s eta 0:00:09\n",
      "   -------------------- ------------------- 7.8/15.0 MB 834.5 kB/s eta 0:00:09\n",
      "   -------------------- ------------------- 7.9/15.0 MB 836.1 kB/s eta 0:00:09\n",
      "   --------------------- ------------------ 8.1/15.0 MB 855.3 kB/s eta 0:00:09\n",
      "   --------------------- ------------------ 8.1/15.0 MB 855.3 kB/s eta 0:00:09\n",
      "   --------------------- ------------------ 8.2/15.0 MB 858.1 kB/s eta 0:00:08\n",
      "   --------------------- ------------------ 8.2/15.0 MB 858.1 kB/s eta 0:00:08\n",
      "   ---------------------- ----------------- 8.3/15.0 MB 861.1 kB/s eta 0:00:08\n",
      "   ---------------------- ----------------- 8.5/15.0 MB 874.9 kB/s eta 0:00:08\n",
      "   ---------------------- ----------------- 8.6/15.0 MB 886.1 kB/s eta 0:00:08\n",
      "   ----------------------- ---------------- 8.9/15.0 MB 909.3 kB/s eta 0:00:07\n",
      "   ------------------------- -------------- 9.4/15.0 MB 957.0 kB/s eta 0:00:06\n",
      "   ------------------------- -------------- 9.6/15.0 MB 970.1 kB/s eta 0:00:06\n",
      "   -------------------------- ------------- 9.8/15.0 MB 984.0 kB/s eta 0:00:06\n",
      "   -------------------------- ------------- 9.8/15.0 MB 984.0 kB/s eta 0:00:06\n",
      "   -------------------------- ------------- 10.0/15.0 MB 998.4 kB/s eta 0:00:05\n",
      "   -------------------------- ------------- 10.0/15.0 MB 998.4 kB/s eta 0:00:05\n",
      "   --------------------------- ------------ 10.2/15.0 MB 1.0 MB/s eta 0:00:05\n",
      "   --------------------------- ------------ 10.3/15.0 MB 1.0 MB/s eta 0:00:05\n",
      "   --------------------------- ------------ 10.3/15.0 MB 1.0 MB/s eta 0:00:05\n",
      "   --------------------------- ------------ 10.3/15.0 MB 996.5 kB/s eta 0:00:05\n",
      "   --------------------------- ------------ 10.3/15.0 MB 996.5 kB/s eta 0:00:05\n",
      "   --------------------------- ------------ 10.3/15.0 MB 996.5 kB/s eta 0:00:05\n",
      "   --------------------------- ------------ 10.3/15.0 MB 996.5 kB/s eta 0:00:05\n",
      "   --------------------------- ------------ 10.5/15.0 MB 998.0 kB/s eta 0:00:05\n",
      "   ---------------------------- ----------- 10.6/15.0 MB 1.0 MB/s eta 0:00:05\n",
      "   ---------------------------- ----------- 10.8/15.0 MB 1.0 MB/s eta 0:00:05\n",
      "   ----------------------------- ---------- 10.9/15.0 MB 1.0 MB/s eta 0:00:05\n",
      "   ----------------------------- ---------- 11.0/15.0 MB 1.0 MB/s eta 0:00:04\n",
      "   ----------------------------- ---------- 11.2/15.0 MB 1.0 MB/s eta 0:00:04\n",
      "   ------------------------------- -------- 11.7/15.0 MB 1.1 MB/s eta 0:00:04\n",
      "   ------------------------------- -------- 12.0/15.0 MB 1.1 MB/s eta 0:00:03\n",
      "   -------------------------------- ------- 12.2/15.0 MB 1.2 MB/s eta 0:00:03\n",
      "   -------------------------------- ------- 12.2/15.0 MB 1.2 MB/s eta 0:00:03\n",
      "   -------------------------------- ------- 12.2/15.0 MB 1.2 MB/s eta 0:00:03\n",
      "   -------------------------------- ------- 12.2/15.0 MB 1.2 MB/s eta 0:00:03\n",
      "   --------------------------------- ------ 12.5/15.0 MB 1.2 MB/s eta 0:00:03\n",
      "   --------------------------------- ------ 12.5/15.0 MB 1.2 MB/s eta 0:00:03\n",
      "   --------------------------------- ------ 12.6/15.0 MB 1.2 MB/s eta 0:00:02\n",
      "   --------------------------------- ------ 12.7/15.0 MB 1.3 MB/s eta 0:00:02\n",
      "   --------------------------------- ------ 12.7/15.0 MB 1.3 MB/s eta 0:00:02\n",
      "   ---------------------------------- ----- 12.8/15.0 MB 1.3 MB/s eta 0:00:02\n",
      "   ---------------------------------- ----- 12.9/15.0 MB 1.3 MB/s eta 0:00:02\n",
      "   ---------------------------------- ----- 13.0/15.0 MB 1.3 MB/s eta 0:00:02\n",
      "   ---------------------------------- ----- 13.1/15.0 MB 1.5 MB/s eta 0:00:02\n",
      "   ---------------------------------- ----- 13.1/15.0 MB 1.5 MB/s eta 0:00:02\n",
      "   ----------------------------------- ---- 13.2/15.0 MB 1.5 MB/s eta 0:00:02\n",
      "   ------------------------------------ --- 13.7/15.0 MB 1.6 MB/s eta 0:00:01\n",
      "   ------------------------------------ --- 13.8/15.0 MB 1.6 MB/s eta 0:00:01\n",
      "   ------------------------------------ --- 13.8/15.0 MB 1.6 MB/s eta 0:00:01\n",
      "   ------------------------------------ --- 13.9/15.0 MB 1.6 MB/s eta 0:00:01\n",
      "   ------------------------------------ --- 13.9/15.0 MB 1.6 MB/s eta 0:00:01\n",
      "   ------------------------------------ --- 13.9/15.0 MB 1.6 MB/s eta 0:00:01\n",
      "   ------------------------------------- -- 13.9/15.0 MB 1.5 MB/s eta 0:00:01\n",
      "   ------------------------------------- -- 13.9/15.0 MB 1.5 MB/s eta 0:00:01\n",
      "   ------------------------------------- -- 14.2/15.0 MB 1.6 MB/s eta 0:00:01\n",
      "   -------------------------------------- - 14.3/15.0 MB 1.6 MB/s eta 0:00:01\n",
      "   -------------------------------------- - 14.4/15.0 MB 1.6 MB/s eta 0:00:01\n",
      "   -------------------------------------- - 14.6/15.0 MB 1.6 MB/s eta 0:00:01\n",
      "   ---------------------------------------  15.0/15.0 MB 1.6 MB/s eta 0:00:01\n",
      "   ---------------------------------------- 15.0/15.0 MB 1.6 MB/s eta 0:00:00\n",
      "Downloading numpy-2.3.1-cp311-cp311-win_amd64.whl (13.0 MB)\n",
      "   ---------------------------------------- 0.0/13.0 MB ? eta -:--:--\n",
      "    --------------------------------------- 0.2/13.0 MB ? eta -:--:--\n",
      "   - -------------------------------------- 0.4/13.0 MB 6.1 MB/s eta 0:00:03\n",
      "   -- ------------------------------------- 0.7/13.0 MB 7.1 MB/s eta 0:00:02\n",
      "   -- ------------------------------------- 0.7/13.0 MB 5.8 MB/s eta 0:00:03\n",
      "   -- ------------------------------------- 0.7/13.0 MB 5.8 MB/s eta 0:00:03\n",
      "   -- ------------------------------------- 0.8/13.0 MB 3.9 MB/s eta 0:00:04\n",
      "   --- ------------------------------------ 1.1/13.0 MB 3.8 MB/s eta 0:00:04\n",
      "   --- ------------------------------------ 1.1/13.0 MB 3.3 MB/s eta 0:00:04\n",
      "   --- ------------------------------------ 1.1/13.0 MB 3.3 MB/s eta 0:00:04\n",
      "   --- ------------------------------------ 1.2/13.0 MB 3.0 MB/s eta 0:00:04\n",
      "   --- ------------------------------------ 1.3/13.0 MB 2.8 MB/s eta 0:00:05\n",
      "   ---- ----------------------------------- 1.5/13.0 MB 3.2 MB/s eta 0:00:04\n",
      "   ----- ---------------------------------- 1.7/13.0 MB 3.1 MB/s eta 0:00:04\n",
      "   ------ --------------------------------- 2.0/13.0 MB 3.4 MB/s eta 0:00:04\n",
      "   ------ --------------------------------- 2.2/13.0 MB 3.6 MB/s eta 0:00:03\n",
      "   ------ --------------------------------- 2.2/13.0 MB 3.6 MB/s eta 0:00:03\n",
      "   ------- -------------------------------- 2.3/13.0 MB 3.3 MB/s eta 0:00:04\n",
      "   ------- -------------------------------- 2.3/13.0 MB 3.3 MB/s eta 0:00:04\n",
      "   ------- -------------------------------- 2.6/13.0 MB 3.2 MB/s eta 0:00:04\n",
      "   ------- -------------------------------- 2.6/13.0 MB 3.2 MB/s eta 0:00:04\n",
      "   -------- ------------------------------- 2.8/13.0 MB 3.2 MB/s eta 0:00:04\n",
      "   --------- ------------------------------ 3.1/13.0 MB 3.3 MB/s eta 0:00:03\n",
      "   ---------- ----------------------------- 3.3/13.0 MB 3.3 MB/s eta 0:00:03\n",
      "   ---------- ----------------------------- 3.6/13.0 MB 3.5 MB/s eta 0:00:03\n",
      "   ---------- ----------------------------- 3.6/13.0 MB 3.5 MB/s eta 0:00:03\n",
      "   ----------- ---------------------------- 3.8/13.0 MB 3.5 MB/s eta 0:00:03\n",
      "   ------------ --------------------------- 3.9/13.0 MB 3.4 MB/s eta 0:00:03\n",
      "   ------------- -------------------------- 4.3/13.0 MB 3.5 MB/s eta 0:00:03\n",
      "   ------------- -------------------------- 4.3/13.0 MB 3.5 MB/s eta 0:00:03\n",
      "   ------------- -------------------------- 4.3/13.0 MB 3.5 MB/s eta 0:00:03\n",
      "   ------------- -------------------------- 4.3/13.0 MB 3.5 MB/s eta 0:00:03\n",
      "   ------------- -------------------------- 4.4/13.0 MB 3.2 MB/s eta 0:00:03\n",
      "   -------------- ------------------------- 4.8/13.0 MB 3.4 MB/s eta 0:00:03\n",
      "   -------------- ------------------------- 4.8/13.0 MB 3.4 MB/s eta 0:00:03\n",
      "   --------------- ------------------------ 5.1/13.0 MB 3.3 MB/s eta 0:00:03\n",
      "   ---------------- ----------------------- 5.2/13.0 MB 3.4 MB/s eta 0:00:03\n",
      "   ------------------ --------------------- 5.9/13.0 MB 3.6 MB/s eta 0:00:02\n",
      "   ------------------ --------------------- 5.9/13.0 MB 3.6 MB/s eta 0:00:02\n",
      "   ------------------ --------------------- 5.9/13.0 MB 3.6 MB/s eta 0:00:02\n",
      "   ------------------ --------------------- 6.0/13.0 MB 3.4 MB/s eta 0:00:03\n",
      "   ------------------ --------------------- 6.1/13.0 MB 3.4 MB/s eta 0:00:03\n",
      "   ------------------ --------------------- 6.1/13.0 MB 3.4 MB/s eta 0:00:03\n",
      "   ------------------- -------------------- 6.2/13.0 MB 3.2 MB/s eta 0:00:03\n",
      "   ------------------- -------------------- 6.4/13.0 MB 3.3 MB/s eta 0:00:03\n",
      "   -------------------- ------------------- 6.6/13.0 MB 3.3 MB/s eta 0:00:02\n",
      "   -------------------- ------------------- 6.7/13.0 MB 3.3 MB/s eta 0:00:02\n",
      "   --------------------- ------------------ 6.9/13.0 MB 3.3 MB/s eta 0:00:02\n",
      "   --------------------- ------------------ 6.9/13.0 MB 3.3 MB/s eta 0:00:02\n",
      "   --------------------- ------------------ 6.9/13.0 MB 3.3 MB/s eta 0:00:02\n",
      "   --------------------- ------------------ 6.9/13.0 MB 3.3 MB/s eta 0:00:02\n",
      "   --------------------- ------------------ 6.9/13.0 MB 3.3 MB/s eta 0:00:02\n",
      "   --------------------- ------------------ 6.9/13.0 MB 3.3 MB/s eta 0:00:02\n",
      "   --------------------- ------------------ 7.1/13.0 MB 3.0 MB/s eta 0:00:02\n",
      "   ----------------------- ---------------- 7.6/13.0 MB 3.1 MB/s eta 0:00:02\n",
      "   ------------------------ --------------- 7.8/13.0 MB 3.2 MB/s eta 0:00:02\n",
      "   ------------------------ --------------- 7.8/13.0 MB 3.2 MB/s eta 0:00:02\n",
      "   ------------------------ --------------- 8.1/13.0 MB 3.2 MB/s eta 0:00:02\n",
      "   ------------------------- -------------- 8.1/13.0 MB 3.1 MB/s eta 0:00:02\n",
      "   ------------------------- -------------- 8.2/13.0 MB 3.1 MB/s eta 0:00:02\n",
      "   ------------------------- -------------- 8.3/13.0 MB 3.0 MB/s eta 0:00:02\n",
      "   -------------------------- ------------- 8.6/13.0 MB 3.1 MB/s eta 0:00:02\n",
      "   -------------------------- ------------- 8.6/13.0 MB 3.1 MB/s eta 0:00:02\n",
      "   -------------------------- ------------- 8.6/13.0 MB 3.1 MB/s eta 0:00:02\n",
      "   -------------------------- ------------- 8.6/13.0 MB 3.1 MB/s eta 0:00:02\n",
      "   -------------------------- ------------- 8.7/13.0 MB 2.9 MB/s eta 0:00:02\n",
      "   --------------------------- ------------ 8.8/13.0 MB 3.0 MB/s eta 0:00:02\n",
      "   --------------------------- ------------ 9.0/13.0 MB 3.0 MB/s eta 0:00:02\n",
      "   ---------------------------- ----------- 9.2/13.0 MB 3.0 MB/s eta 0:00:02\n",
      "   ---------------------------- ----------- 9.2/13.0 MB 3.0 MB/s eta 0:00:02\n",
      "   ---------------------------- ----------- 9.2/13.0 MB 2.9 MB/s eta 0:00:02\n",
      "   ---------------------------- ----------- 9.2/13.0 MB 2.9 MB/s eta 0:00:02\n",
      "   ---------------------------- ----------- 9.2/13.0 MB 2.9 MB/s eta 0:00:02\n",
      "   ---------------------------- ----------- 9.2/13.0 MB 2.9 MB/s eta 0:00:02\n",
      "   ---------------------------- ----------- 9.2/13.0 MB 2.9 MB/s eta 0:00:02\n",
      "   ---------------------------- ----------- 9.2/13.0 MB 2.9 MB/s eta 0:00:02\n",
      "   ---------------------------- ----------- 9.2/13.0 MB 2.9 MB/s eta 0:00:02\n",
      "   ---------------------------- ----------- 9.3/13.0 MB 2.7 MB/s eta 0:00:02\n",
      "   ---------------------------- ----------- 9.3/13.0 MB 2.7 MB/s eta 0:00:02\n",
      "   ---------------------------- ----------- 9.4/13.0 MB 2.6 MB/s eta 0:00:02\n",
      "   ---------------------------- ----------- 9.4/13.0 MB 2.6 MB/s eta 0:00:02\n",
      "   ----------------------------- ---------- 9.5/13.0 MB 2.6 MB/s eta 0:00:02\n",
      "   ----------------------------- ---------- 9.5/13.0 MB 2.5 MB/s eta 0:00:02\n",
      "   ----------------------------- ---------- 9.6/13.0 MB 2.6 MB/s eta 0:00:02\n",
      "   ----------------------------- ---------- 9.7/13.0 MB 2.5 MB/s eta 0:00:02\n",
      "   ----------------------------- ---------- 9.8/13.0 MB 2.5 MB/s eta 0:00:02\n",
      "   ------------------------------ --------- 9.9/13.0 MB 2.5 MB/s eta 0:00:02\n",
      "   ------------------------------ --------- 9.9/13.0 MB 2.5 MB/s eta 0:00:02\n",
      "   ------------------------------ --------- 9.9/13.0 MB 2.5 MB/s eta 0:00:02\n",
      "   ------------------------------ --------- 9.9/13.0 MB 2.5 MB/s eta 0:00:02\n",
      "   ------------------------------ --------- 9.9/13.0 MB 2.5 MB/s eta 0:00:02\n",
      "   ------------------------------ --------- 10.0/13.0 MB 2.4 MB/s eta 0:00:02\n",
      "   ------------------------------ --------- 10.0/13.0 MB 2.4 MB/s eta 0:00:02\n",
      "   ------------------------------ --------- 10.0/13.0 MB 2.4 MB/s eta 0:00:02\n",
      "   ------------------------------- -------- 10.2/13.0 MB 2.3 MB/s eta 0:00:02\n",
      "   ------------------------------- -------- 10.3/13.0 MB 2.3 MB/s eta 0:00:02\n",
      "   -------------------------------- ------- 10.5/13.0 MB 2.3 MB/s eta 0:00:02\n",
      "   -------------------------------- ------- 10.7/13.0 MB 2.3 MB/s eta 0:00:02\n",
      "   -------------------------------- ------- 10.7/13.0 MB 2.3 MB/s eta 0:00:01\n",
      "   -------------------------------- ------- 10.7/13.0 MB 2.3 MB/s eta 0:00:01\n",
      "   --------------------------------- ------ 11.0/13.0 MB 2.3 MB/s eta 0:00:01\n",
      "   --------------------------------- ------ 11.0/13.0 MB 2.3 MB/s eta 0:00:01\n",
      "   ---------------------------------- ----- 11.2/13.0 MB 2.3 MB/s eta 0:00:01\n",
      "   ---------------------------------- ----- 11.2/13.0 MB 2.3 MB/s eta 0:00:01\n",
      "   ----------------------------------- ---- 11.7/13.0 MB 2.3 MB/s eta 0:00:01\n",
      "   ------------------------------------ --- 11.8/13.0 MB 2.4 MB/s eta 0:00:01\n",
      "   ------------------------------------ --- 11.9/13.0 MB 2.3 MB/s eta 0:00:01\n",
      "   ------------------------------------ --- 12.0/13.0 MB 2.3 MB/s eta 0:00:01\n",
      "   ------------------------------------- -- 12.1/13.0 MB 2.3 MB/s eta 0:00:01\n",
      "   ------------------------------------- -- 12.1/13.0 MB 2.3 MB/s eta 0:00:01\n",
      "   ------------------------------------- -- 12.1/13.0 MB 2.3 MB/s eta 0:00:01\n",
      "   ------------------------------------- -- 12.1/13.0 MB 2.3 MB/s eta 0:00:01\n",
      "   -------------------------------------- - 12.4/13.0 MB 2.2 MB/s eta 0:00:01\n",
      "   -------------------------------------- - 12.4/13.0 MB 2.2 MB/s eta 0:00:01\n",
      "   -------------------------------------- - 12.5/13.0 MB 2.2 MB/s eta 0:00:01\n",
      "   -------------------------------------- - 12.6/13.0 MB 2.3 MB/s eta 0:00:01\n",
      "   -------------------------------------- - 12.6/13.0 MB 2.3 MB/s eta 0:00:01\n",
      "   -------------------------------------- - 12.7/13.0 MB 2.2 MB/s eta 0:00:01\n",
      "   -------------------------------------- - 12.7/13.0 MB 2.2 MB/s eta 0:00:01\n",
      "   ---------------------------------------  12.8/13.0 MB 2.2 MB/s eta 0:00:01\n",
      "   ---------------------------------------  12.8/13.0 MB 2.2 MB/s eta 0:00:01\n",
      "   ---------------------------------------  12.8/13.0 MB 2.1 MB/s eta 0:00:01\n",
      "   ---------------------------------------  12.8/13.0 MB 2.1 MB/s eta 0:00:01\n",
      "   ---------------------------------------  13.0/13.0 MB 2.1 MB/s eta 0:00:01\n",
      "   ---------------------------------------  13.0/13.0 MB 2.1 MB/s eta 0:00:01\n",
      "   ---------------------------------------  13.0/13.0 MB 2.1 MB/s eta 0:00:01\n",
      "   ---------------------------------------  13.0/13.0 MB 2.0 MB/s eta 0:00:01\n",
      "   ---------------------------------------- 13.0/13.0 MB 2.0 MB/s eta 0:00:00\n",
      "Installing collected packages: numpy, faiss-cpu\n",
      "Successfully installed faiss-cpu-1.11.0 numpy-2.3.1\n"
     ]
    },
    {
     "name": "stderr",
     "output_type": "stream",
     "text": [
      "  WARNING: The scripts f2py.exe and numpy-config.exe are installed in 'C:\\Users\\NAUSHAD\\AppData\\Roaming\\Python\\Python311\\Scripts' which is not on PATH.\n",
      "  Consider adding this directory to PATH or, if you prefer to suppress this warning, use --no-warn-script-location.\n",
      "ERROR: pip's dependency resolver does not currently take into account all the packages that are installed. This behaviour is the source of the following dependency conflicts.\n",
      "gensim 4.3.0 requires FuzzyTM>=0.4.0, which is not installed.\n",
      "tables 3.8.0 requires blosc2~=2.0.0, which is not installed.\n",
      "tables 3.8.0 requires cython>=0.29.21, which is not installed.\n",
      "numba 0.57.0 requires numpy<1.25,>=1.21, but you have numpy 2.3.1 which is incompatible.\n",
      "scipy 1.10.1 requires numpy<1.27.0,>=1.19.5, but you have numpy 2.3.1 which is incompatible.\n"
     ]
    }
   ],
   "source": [
    "!pip install faiss-cpu\n"
   ]
  },
  {
   "cell_type": "code",
   "execution_count": 7,
   "id": "3fd0e061",
   "metadata": {},
   "outputs": [
    {
     "name": "stdout",
     "output_type": "stream",
     "text": [
      "Defaulting to user installation because normal site-packages is not writeable\n",
      "Collecting numpy==1.24.3\n",
      "  Obtaining dependency information for numpy==1.24.3 from https://files.pythonhosted.org/packages/f0/e8/1ea9adebdccaadfc208c7517e09f5145ed5a73069779ff436393085d47a2/numpy-1.24.3-cp311-cp311-win_amd64.whl.metadata\n",
      "  Downloading numpy-1.24.3-cp311-cp311-win_amd64.whl.metadata (5.6 kB)\n",
      "Downloading numpy-1.24.3-cp311-cp311-win_amd64.whl (14.8 MB)\n",
      "   ---------------------------------------- 0.0/14.8 MB ? eta -:--:--\n",
      "   ---------------------------------------- 0.1/14.8 MB 2.2 MB/s eta 0:00:07\n",
      "    --------------------------------------- 0.3/14.8 MB 3.9 MB/s eta 0:00:04\n",
      "   - -------------------------------------- 0.5/14.8 MB 3.7 MB/s eta 0:00:04\n",
      "   -- ------------------------------------- 0.8/14.8 MB 4.6 MB/s eta 0:00:04\n",
      "   --- ------------------------------------ 1.2/14.8 MB 5.1 MB/s eta 0:00:03\n",
      "   ---- ----------------------------------- 1.6/14.8 MB 5.9 MB/s eta 0:00:03\n",
      "   ---- ----------------------------------- 1.8/14.8 MB 5.7 MB/s eta 0:00:03\n",
      "   ----- ---------------------------------- 2.2/14.8 MB 6.0 MB/s eta 0:00:03\n",
      "   ------ --------------------------------- 2.5/14.8 MB 6.5 MB/s eta 0:00:02\n",
      "   ------ --------------------------------- 2.5/14.8 MB 5.5 MB/s eta 0:00:03\n",
      "   ------- -------------------------------- 2.8/14.8 MB 5.6 MB/s eta 0:00:03\n",
      "   -------- ------------------------------- 3.2/14.8 MB 5.8 MB/s eta 0:00:03\n",
      "   --------- ------------------------------ 3.5/14.8 MB 6.0 MB/s eta 0:00:02\n",
      "   --------- ------------------------------ 3.6/14.8 MB 5.8 MB/s eta 0:00:02\n",
      "   ---------- ----------------------------- 4.0/14.8 MB 6.0 MB/s eta 0:00:02\n",
      "   ----------- ---------------------------- 4.2/14.8 MB 5.9 MB/s eta 0:00:02\n",
      "   ----------- ---------------------------- 4.2/14.8 MB 5.9 MB/s eta 0:00:02\n",
      "   ----------- ---------------------------- 4.4/14.8 MB 5.7 MB/s eta 0:00:02\n",
      "   ------------ --------------------------- 4.6/14.8 MB 5.4 MB/s eta 0:00:02\n",
      "   ------------- -------------------------- 5.0/14.8 MB 5.7 MB/s eta 0:00:02\n",
      "   ------------- -------------------------- 5.0/14.8 MB 5.5 MB/s eta 0:00:02\n",
      "   -------------- ------------------------- 5.6/14.8 MB 5.6 MB/s eta 0:00:02\n",
      "   --------------- ------------------------ 5.7/14.8 MB 5.6 MB/s eta 0:00:02\n",
      "   ---------------- ----------------------- 6.1/14.8 MB 5.7 MB/s eta 0:00:02\n",
      "   ----------------- ---------------------- 6.6/14.8 MB 5.9 MB/s eta 0:00:02\n",
      "   ------------------ --------------------- 7.0/14.8 MB 5.9 MB/s eta 0:00:02\n",
      "   ------------------- -------------------- 7.3/14.8 MB 6.1 MB/s eta 0:00:02\n",
      "   ------------------- -------------------- 7.3/14.8 MB 6.1 MB/s eta 0:00:02\n",
      "   -------------------- ------------------- 7.5/14.8 MB 5.8 MB/s eta 0:00:02\n",
      "   -------------------- ------------------- 7.7/14.8 MB 5.7 MB/s eta 0:00:02\n",
      "   -------------------- ------------------- 7.7/14.8 MB 5.7 MB/s eta 0:00:02\n",
      "   -------------------- ------------------- 7.7/14.8 MB 5.7 MB/s eta 0:00:02\n",
      "   --------------------- ------------------ 8.1/14.8 MB 5.4 MB/s eta 0:00:02\n",
      "   ---------------------- ----------------- 8.2/14.8 MB 5.3 MB/s eta 0:00:02\n",
      "   ----------------------- ---------------- 8.7/14.8 MB 5.5 MB/s eta 0:00:02\n",
      "   ------------------------ --------------- 9.1/14.8 MB 5.5 MB/s eta 0:00:02\n",
      "   ------------------------- -------------- 9.5/14.8 MB 5.7 MB/s eta 0:00:01\n",
      "   -------------------------- ------------- 9.7/14.8 MB 5.6 MB/s eta 0:00:01\n",
      "   -------------------------- ------------- 9.8/14.8 MB 5.6 MB/s eta 0:00:01\n",
      "   --------------------------- ------------ 10.1/14.8 MB 5.6 MB/s eta 0:00:01\n",
      "   --------------------------- ------------ 10.2/14.8 MB 5.5 MB/s eta 0:00:01\n",
      "   --------------------------- ------------ 10.3/14.8 MB 5.4 MB/s eta 0:00:01\n",
      "   ---------------------------- ----------- 10.6/14.8 MB 5.5 MB/s eta 0:00:01\n",
      "   ----------------------------- ---------- 10.8/14.8 MB 5.5 MB/s eta 0:00:01\n",
      "   ------------------------------ --------- 11.3/14.8 MB 5.5 MB/s eta 0:00:01\n",
      "   ------------------------------- -------- 11.7/14.8 MB 5.5 MB/s eta 0:00:01\n",
      "   -------------------------------- ------- 11.9/14.8 MB 5.4 MB/s eta 0:00:01\n",
      "   -------------------------------- ------- 12.2/14.8 MB 5.5 MB/s eta 0:00:01\n",
      "   -------------------------------- ------- 12.2/14.8 MB 5.5 MB/s eta 0:00:01\n",
      "   --------------------------------- ------ 12.5/14.8 MB 5.2 MB/s eta 0:00:01\n",
      "   --------------------------------- ------ 12.6/14.8 MB 5.2 MB/s eta 0:00:01\n",
      "   ---------------------------------- ----- 13.0/14.8 MB 5.4 MB/s eta 0:00:01\n",
      "   ----------------------------------- ---- 13.0/14.8 MB 5.4 MB/s eta 0:00:01\n",
      "   ----------------------------------- ---- 13.3/14.8 MB 5.2 MB/s eta 0:00:01\n",
      "   ------------------------------------ --- 13.5/14.8 MB 5.2 MB/s eta 0:00:01\n",
      "   ------------------------------------- -- 13.9/14.8 MB 5.2 MB/s eta 0:00:01\n",
      "   ------------------------------------- -- 14.0/14.8 MB 5.1 MB/s eta 0:00:01\n",
      "   -------------------------------------- - 14.4/14.8 MB 5.1 MB/s eta 0:00:01\n",
      "   ---------------------------------------  14.7/14.8 MB 5.5 MB/s eta 0:00:01\n",
      "   ---------------------------------------  14.8/14.8 MB 5.2 MB/s eta 0:00:01\n",
      "   ---------------------------------------- 14.8/14.8 MB 5.2 MB/s eta 0:00:00\n",
      "Installing collected packages: numpy\n",
      "  Attempting uninstall: numpy\n",
      "    Found existing installation: numpy 2.3.1\n",
      "    Uninstalling numpy-2.3.1:\n",
      "      Successfully uninstalled numpy-2.3.1\n",
      "Successfully installed numpy-1.24.3\n",
      "Note: you may need to restart the kernel to use updated packages.\n"
     ]
    },
    {
     "name": "stderr",
     "output_type": "stream",
     "text": [
      "  WARNING: The script f2py.exe is installed in 'C:\\Users\\NAUSHAD\\AppData\\Roaming\\Python\\Python311\\Scripts' which is not on PATH.\n",
      "  Consider adding this directory to PATH or, if you prefer to suppress this warning, use --no-warn-script-location.\n",
      "ERROR: pip's dependency resolver does not currently take into account all the packages that are installed. This behaviour is the source of the following dependency conflicts.\n",
      "gensim 4.3.0 requires FuzzyTM>=0.4.0, which is not installed.\n",
      "tables 3.8.0 requires blosc2~=2.0.0, which is not installed.\n",
      "tables 3.8.0 requires cython>=0.29.21, which is not installed.\n",
      "faiss-cpu 1.11.0 requires numpy<3.0,>=1.25.0, but you have numpy 1.24.3 which is incompatible.\n"
     ]
    }
   ],
   "source": [
    "pip install numpy==1.24.3\n"
   ]
  },
  {
   "cell_type": "code",
   "execution_count": 1,
   "id": "e94fbb37",
   "metadata": {},
   "outputs": [
    {
     "name": "stdout",
     "output_type": "stream",
     "text": [
      "Defaulting to user installation because normal site-packages is not writeableNote: you may need to restart the kernel to use updated packages.\n"
     ]
    },
    {
     "name": "stderr",
     "output_type": "stream",
     "text": [
      "  WARNING: The script f2py.exe is installed in 'C:\\Users\\NAUSHAD\\AppData\\Roaming\\Python\\Python311\\Scripts' which is not on PATH.\n",
      "  Consider adding this directory to PATH or, if you prefer to suppress this warning, use --no-warn-script-location.\n",
      "ERROR: Could not install packages due to an OSError: [WinError 5] Access is denied: 'C:\\\\Users\\\\NAUSHAD\\\\AppData\\\\Roaming\\\\Python\\\\Python311\\\\site-packages\\\\~umpy\\\\.libs\\\\libopenblas64__v0.3.21-gcc_10_3_0.dll'\n",
      "Check the permissions.\n",
      "\n"
     ]
    },
    {
     "name": "stdout",
     "output_type": "stream",
     "text": [
      "\n",
      "Collecting FuzzyTM\n",
      "  Obtaining dependency information for FuzzyTM from https://files.pythonhosted.org/packages/2d/30/074bac7a25866a2807c1005c7852c0139ac22ba837871fc01f16df29b9dc/FuzzyTM-2.0.9-py3-none-any.whl.metadata\n",
      "  Downloading FuzzyTM-2.0.9-py3-none-any.whl.metadata (7.9 kB)\n",
      "Collecting blosc2\n",
      "  Obtaining dependency information for blosc2 from https://files.pythonhosted.org/packages/5b/70/12c9490bae7c2f4692627e17d916fc002b6812453adcbb834cd2c24c298f/blosc2-3.5.0-cp311-cp311-win_amd64.whl.metadata\n",
      "  Downloading blosc2-3.5.0-cp311-cp311-win_amd64.whl.metadata (6.9 kB)\n",
      "Collecting cython\n",
      "  Obtaining dependency information for cython from https://files.pythonhosted.org/packages/a2/50/0aa65be5a4ab65bde3224b8fd23ed795f699d1e724ac109bb0a32036b82d/cython-3.1.2-cp311-cp311-win_amd64.whl.metadata\n",
      "  Downloading cython-3.1.2-cp311-cp311-win_amd64.whl.metadata (6.0 kB)\n",
      "Requirement already satisfied: numpy in c:\\users\\naushad\\appdata\\roaming\\python\\python311\\site-packages (from FuzzyTM) (1.24.3)\n",
      "Requirement already satisfied: pandas in c:\\programdata\\anaconda3\\lib\\site-packages (from FuzzyTM) (1.5.3)\n",
      "Requirement already satisfied: scipy in c:\\programdata\\anaconda3\\lib\\site-packages (from FuzzyTM) (1.10.1)\n",
      "Collecting pyfume (from FuzzyTM)\n",
      "  Obtaining dependency information for pyfume from https://files.pythonhosted.org/packages/ed/ea/a3b120e251145dcdb10777f2bc5f18b1496fd999d705a178c1b0ad947ce1/pyFUME-0.3.4-py3-none-any.whl.metadata\n",
      "  Downloading pyFUME-0.3.4-py3-none-any.whl.metadata (9.7 kB)\n",
      "Collecting numpy (from FuzzyTM)\n",
      "  Obtaining dependency information for numpy from https://files.pythonhosted.org/packages/6b/fb/bb613f4122c310a13ec67585c70e14b03bfc7ebabd24f4d5138b97371d7c/numpy-2.3.1-cp311-cp311-win_amd64.whl.metadata\n",
      "  Using cached numpy-2.3.1-cp311-cp311-win_amd64.whl.metadata (60 kB)\n",
      "Collecting ndindex (from blosc2)\n",
      "  Obtaining dependency information for ndindex from https://files.pythonhosted.org/packages/e9/b3/ec2b3447e49d69f033edb003761d3e2e01f2e5fe8ab397140099920405aa/ndindex-1.10.0-cp311-cp311-win_amd64.whl.metadata\n",
      "  Downloading ndindex-1.10.0-cp311-cp311-win_amd64.whl.metadata (3.7 kB)\n",
      "Requirement already satisfied: msgpack in c:\\programdata\\anaconda3\\lib\\site-packages (from blosc2) (1.0.3)\n",
      "Requirement already satisfied: platformdirs in c:\\programdata\\anaconda3\\lib\\site-packages (from blosc2) (2.5.2)\n",
      "Requirement already satisfied: numexpr in c:\\programdata\\anaconda3\\lib\\site-packages (from blosc2) (2.8.4)\n",
      "Requirement already satisfied: py-cpuinfo in c:\\programdata\\anaconda3\\lib\\site-packages (from blosc2) (8.0.0)\n",
      "Requirement already satisfied: requests in c:\\programdata\\anaconda3\\lib\\site-packages (from blosc2) (2.31.0)\n",
      "Requirement already satisfied: python-dateutil>=2.8.1 in c:\\programdata\\anaconda3\\lib\\site-packages (from pandas->FuzzyTM) (2.8.2)\n",
      "Requirement already satisfied: pytz>=2020.1 in c:\\programdata\\anaconda3\\lib\\site-packages (from pandas->FuzzyTM) (2022.7)\n",
      "INFO: pip is looking at multiple versions of pyfume to determine which version is compatible with other requirements. This could take a while.\n",
      "Collecting pyfume (from FuzzyTM)\n",
      "  Obtaining dependency information for pyfume from https://files.pythonhosted.org/packages/f0/fe/b899a3d9a18c9a44a35155c79a4c152cb85990ea38ce6ab7ed73e5caa1b9/pyFUME-0.3.1-py3-none-any.whl.metadata\n",
      "  Downloading pyFUME-0.3.1-py3-none-any.whl.metadata (9.7 kB)\n",
      "Collecting simpful (from pyfume->FuzzyTM)\n",
      "  Obtaining dependency information for simpful from https://files.pythonhosted.org/packages/9d/0e/aebc2fb0b0f481994179b2ee2b8e6bbf0894d971594688c018375e7076ea/simpful-2.12.0-py3-none-any.whl.metadata\n",
      "  Downloading simpful-2.12.0-py3-none-any.whl.metadata (4.8 kB)\n",
      "Collecting fst-pso (from pyfume->FuzzyTM)\n",
      "  Obtaining dependency information for fst-pso from https://files.pythonhosted.org/packages/30/a2/a541e2a78d17679100b994bca08587f7cb4c84f02925fa255f87e6ef44f3/fst_pso-1.9.0-py3-none-any.whl.metadata\n",
      "  Downloading fst_pso-1.9.0-py3-none-any.whl.metadata (3.2 kB)\n",
      "Requirement already satisfied: typing-extensions in c:\\users\\naushad\\appdata\\roaming\\python\\python311\\site-packages (from pyfume->FuzzyTM) (4.14.0)\n",
      "Requirement already satisfied: charset-normalizer<4,>=2 in c:\\programdata\\anaconda3\\lib\\site-packages (from requests->blosc2) (2.0.4)\n",
      "Requirement already satisfied: idna<4,>=2.5 in c:\\programdata\\anaconda3\\lib\\site-packages (from requests->blosc2) (3.4)\n",
      "Requirement already satisfied: urllib3<3,>=1.21.1 in c:\\programdata\\anaconda3\\lib\\site-packages (from requests->blosc2) (1.26.16)\n",
      "Requirement already satisfied: certifi>=2017.4.17 in c:\\programdata\\anaconda3\\lib\\site-packages (from requests->blosc2) (2023.7.22)\n",
      "Collecting numpy (from FuzzyTM)\n",
      "  Obtaining dependency information for numpy from https://files.pythonhosted.org/packages/3f/6b/5610004206cf7f8e7ad91c5a85a8c71b2f2f8051a0c0c4d5916b76d6cbb2/numpy-1.26.4-cp311-cp311-win_amd64.whl.metadata\n",
      "  Downloading numpy-1.26.4-cp311-cp311-win_amd64.whl.metadata (61 kB)\n",
      "     ---------------------------------------- 0.0/61.0 kB ? eta -:--:--\n",
      "     ---------------------------------------- 61.0/61.0 kB 3.2 MB/s eta 0:00:00\n",
      "Requirement already satisfied: six>=1.5 in c:\\programdata\\anaconda3\\lib\\site-packages (from python-dateutil>=2.8.1->pandas->FuzzyTM) (1.16.0)\n",
      "Collecting miniful (from fst-pso->pyfume->FuzzyTM)\n",
      "  Downloading miniful-0.0.6.tar.gz (2.8 kB)\n",
      "  Preparing metadata (setup.py): started\n",
      "  Preparing metadata (setup.py): finished with status 'done'\n",
      "Downloading FuzzyTM-2.0.9-py3-none-any.whl (31 kB)\n",
      "Downloading blosc2-3.5.0-cp311-cp311-win_amd64.whl (2.2 MB)\n",
      "   ---------------------------------------- 0.0/2.2 MB ? eta -:--:--\n",
      "   ---------------------------------------- 0.0/2.2 MB ? eta -:--:--\n",
      "    --------------------------------------- 0.0/2.2 MB 262.6 kB/s eta 0:00:09\n",
      "   - -------------------------------------- 0.1/2.2 MB 656.4 kB/s eta 0:00:04\n",
      "   - -------------------------------------- 0.1/2.2 MB 656.4 kB/s eta 0:00:04\n",
      "   --- ------------------------------------ 0.2/2.2 MB 926.0 kB/s eta 0:00:03\n",
      "   --- ------------------------------------ 0.2/2.2 MB 819.2 kB/s eta 0:00:03\n",
      "   ------ --------------------------------- 0.4/2.2 MB 1.2 MB/s eta 0:00:02\n",
      "   ------ --------------------------------- 0.4/2.2 MB 1.2 MB/s eta 0:00:02\n",
      "   -------- ------------------------------- 0.5/2.2 MB 1.2 MB/s eta 0:00:02\n",
      "   -------- ------------------------------- 0.5/2.2 MB 1.1 MB/s eta 0:00:02\n",
      "   -------------- ------------------------- 0.8/2.2 MB 1.6 MB/s eta 0:00:01\n",
      "   -------------- ------------------------- 0.8/2.2 MB 1.6 MB/s eta 0:00:01\n",
      "   ---------------- ----------------------- 0.9/2.2 MB 1.5 MB/s eta 0:00:01\n",
      "   ----------------- ---------------------- 1.0/2.2 MB 1.6 MB/s eta 0:00:01\n",
      "   ----------------- ---------------------- 1.0/2.2 MB 1.6 MB/s eta 0:00:01\n",
      "   ------------------- -------------------- 1.1/2.2 MB 1.5 MB/s eta 0:00:01\n",
      "   ------------------- -------------------- 1.1/2.2 MB 1.5 MB/s eta 0:00:01\n",
      "   ----------------------- ---------------- 1.3/2.2 MB 1.6 MB/s eta 0:00:01\n",
      "   ------------------------- -------------- 1.4/2.2 MB 1.7 MB/s eta 0:00:01\n",
      "   ------------------------- -------------- 1.4/2.2 MB 1.7 MB/s eta 0:00:01\n",
      "   --------------------------- ------------ 1.5/2.2 MB 1.6 MB/s eta 0:00:01\n",
      "   ----------------------------- ---------- 1.6/2.2 MB 1.7 MB/s eta 0:00:01\n",
      "   ------------------------------ --------- 1.7/2.2 MB 1.7 MB/s eta 0:00:01\n",
      "   ------------------------------ --------- 1.7/2.2 MB 1.7 MB/s eta 0:00:01\n",
      "   -------------------------------- ------- 1.8/2.2 MB 1.6 MB/s eta 0:00:01\n",
      "   -------------------------------- ------- 1.8/2.2 MB 1.6 MB/s eta 0:00:01\n",
      "   -------------------------------- ------- 1.8/2.2 MB 1.6 MB/s eta 0:00:01\n",
      "   ------------------------------------- -- 2.1/2.2 MB 1.7 MB/s eta 0:00:01\n",
      "   ------------------------------------- -- 2.1/2.2 MB 1.7 MB/s eta 0:00:01\n",
      "   ---------------------------------------- 2.2/2.2 MB 1.7 MB/s eta 0:00:00\n",
      "Downloading cython-3.1.2-cp311-cp311-win_amd64.whl (2.7 MB)\n",
      "   ---------------------------------------- 0.0/2.7 MB ? eta -:--:--\n",
      "   ---- ----------------------------------- 0.3/2.7 MB 8.6 MB/s eta 0:00:01\n",
      "   ------- -------------------------------- 0.5/2.7 MB 5.5 MB/s eta 0:00:01\n",
      "   -------- ------------------------------- 0.6/2.7 MB 4.2 MB/s eta 0:00:01\n",
      "   ------------ --------------------------- 0.9/2.7 MB 4.6 MB/s eta 0:00:01\n",
      "   -------------- ------------------------- 1.0/2.7 MB 4.2 MB/s eta 0:00:01\n",
      "   --------------------- ------------------ 1.4/2.7 MB 5.0 MB/s eta 0:00:01\n",
      "   ------------------------ --------------- 1.7/2.7 MB 5.3 MB/s eta 0:00:01\n",
      "   ---------------------------- ----------- 1.9/2.7 MB 5.1 MB/s eta 0:00:01\n",
      "   ----------------------------- ---------- 2.0/2.7 MB 5.3 MB/s eta 0:00:01\n",
      "   ----------------------------- ---------- 2.0/2.7 MB 5.3 MB/s eta 0:00:01\n",
      "   -------------------------------- ------- 2.2/2.7 MB 4.4 MB/s eta 0:00:01\n",
      "   -------------------------------- ------- 2.2/2.7 MB 4.4 MB/s eta 0:00:01\n",
      "   ----------------------------------- ---- 2.4/2.7 MB 4.1 MB/s eta 0:00:01\n",
      "   ------------------------------------ --- 2.5/2.7 MB 3.9 MB/s eta 0:00:01\n",
      "   ---------------------------------------  2.7/2.7 MB 4.1 MB/s eta 0:00:01\n",
      "   ---------------------------------------- 2.7/2.7 MB 3.9 MB/s eta 0:00:00\n",
      "Downloading ndindex-1.10.0-cp311-cp311-win_amd64.whl (156 kB)\n",
      "   ---------------------------------------- 0.0/156.7 kB ? eta -:--:--\n",
      "   ---------------------------------------- 156.7/156.7 kB 9.2 MB/s eta 0:00:00\n",
      "Downloading pyFUME-0.3.1-py3-none-any.whl (59 kB)\n",
      "   ---------------------------------------- 0.0/59.6 kB ? eta -:--:--\n",
      "   ---------------------------------------- 59.6/59.6 kB 3.1 MB/s eta 0:00:00\n",
      "Downloading numpy-1.26.4-cp311-cp311-win_amd64.whl (15.8 MB)\n",
      "   ---------------------------------------- 0.0/15.8 MB ? eta -:--:--\n",
      "   ---------------------------------------- 0.0/15.8 MB ? eta -:--:--\n",
      "    --------------------------------------- 0.3/15.8 MB 3.8 MB/s eta 0:00:05\n",
      "    --------------------------------------- 0.4/15.8 MB 3.0 MB/s eta 0:00:06\n",
      "   - -------------------------------------- 0.5/15.8 MB 3.0 MB/s eta 0:00:06\n",
      "   - -------------------------------------- 0.7/15.8 MB 3.5 MB/s eta 0:00:05\n",
      "   -- ------------------------------------- 1.0/15.8 MB 4.0 MB/s eta 0:00:04\n",
      "   -- ------------------------------------- 1.1/15.8 MB 4.1 MB/s eta 0:00:04\n",
      "   --- ------------------------------------ 1.3/15.8 MB 4.2 MB/s eta 0:00:04\n",
      "   ---- ----------------------------------- 1.7/15.8 MB 4.5 MB/s eta 0:00:04\n",
      "   ---- ----------------------------------- 1.7/15.8 MB 4.5 MB/s eta 0:00:04\n",
      "   ----- ---------------------------------- 2.0/15.8 MB 4.5 MB/s eta 0:00:04\n",
      "   ----- ---------------------------------- 2.3/15.8 MB 4.5 MB/s eta 0:00:03\n",
      "   ------ --------------------------------- 2.5/15.8 MB 4.6 MB/s eta 0:00:03\n",
      "   ------ --------------------------------- 2.6/15.8 MB 4.5 MB/s eta 0:00:03\n",
      "   ------ --------------------------------- 2.6/15.8 MB 4.5 MB/s eta 0:00:03\n",
      "   ------- -------------------------------- 2.9/15.8 MB 4.2 MB/s eta 0:00:04\n",
      "   ------- -------------------------------- 3.1/15.8 MB 4.2 MB/s eta 0:00:04\n",
      "   -------- ------------------------------- 3.3/15.8 MB 4.4 MB/s eta 0:00:03\n",
      "   -------- ------------------------------- 3.5/15.8 MB 4.3 MB/s eta 0:00:03\n",
      "   -------- ------------------------------- 3.5/15.8 MB 4.3 MB/s eta 0:00:03\n",
      "   -------- ------------------------------- 3.6/15.8 MB 4.0 MB/s eta 0:00:04\n",
      "   -------- ------------------------------- 3.6/15.8 MB 4.0 MB/s eta 0:00:04\n",
      "   --------- ------------------------------ 3.7/15.8 MB 3.7 MB/s eta 0:00:04\n",
      "   --------- ------------------------------ 3.7/15.8 MB 3.7 MB/s eta 0:00:04\n",
      "   --------- ------------------------------ 3.7/15.8 MB 3.7 MB/s eta 0:00:04\n",
      "   --------- ------------------------------ 3.7/15.8 MB 3.7 MB/s eta 0:00:04\n",
      "   --------- ------------------------------ 3.9/15.8 MB 3.3 MB/s eta 0:00:04\n",
      "   ---------- ----------------------------- 4.1/15.8 MB 3.4 MB/s eta 0:00:04\n",
      "   ---------- ----------------------------- 4.2/15.8 MB 3.3 MB/s eta 0:00:04\n",
      "   ---------- ----------------------------- 4.2/15.8 MB 3.3 MB/s eta 0:00:04\n",
      "   ---------- ----------------------------- 4.2/15.8 MB 3.3 MB/s eta 0:00:04\n",
      "   ---------- ----------------------------- 4.2/15.8 MB 3.3 MB/s eta 0:00:04\n",
      "   ---------- ----------------------------- 4.2/15.8 MB 3.3 MB/s eta 0:00:04\n",
      "   ---------- ----------------------------- 4.2/15.8 MB 3.3 MB/s eta 0:00:04\n",
      "   ---------- ----------------------------- 4.3/15.8 MB 2.8 MB/s eta 0:00:05\n",
      "   ----------- ---------------------------- 4.5/15.8 MB 2.9 MB/s eta 0:00:04\n",
      "   ----------- ---------------------------- 4.6/15.8 MB 2.8 MB/s eta 0:00:04\n",
      "   ----------- ---------------------------- 4.6/15.8 MB 2.8 MB/s eta 0:00:04\n",
      "   ----------- ---------------------------- 4.6/15.8 MB 2.8 MB/s eta 0:00:04\n",
      "   ----------- ---------------------------- 4.7/15.8 MB 2.7 MB/s eta 0:00:05\n",
      "   ----------- ---------------------------- 4.7/15.8 MB 2.7 MB/s eta 0:00:05\n",
      "   ------------ --------------------------- 4.8/15.8 MB 2.6 MB/s eta 0:00:05\n",
      "   ------------ --------------------------- 5.0/15.8 MB 2.7 MB/s eta 0:00:05\n",
      "   ------------ --------------------------- 5.0/15.8 MB 2.7 MB/s eta 0:00:05\n",
      "   ------------ --------------------------- 5.1/15.8 MB 2.6 MB/s eta 0:00:05\n",
      "   ------------- -------------------------- 5.1/15.8 MB 2.6 MB/s eta 0:00:05\n",
      "   ------------- -------------------------- 5.2/15.8 MB 2.6 MB/s eta 0:00:05\n",
      "   ------------- -------------------------- 5.4/15.8 MB 2.6 MB/s eta 0:00:04\n",
      "   ------------- -------------------------- 5.4/15.8 MB 2.6 MB/s eta 0:00:04\n",
      "   -------------- ------------------------- 5.6/15.8 MB 2.6 MB/s eta 0:00:04\n",
      "   -------------- ------------------------- 5.7/15.8 MB 2.6 MB/s eta 0:00:04\n",
      "   -------------- ------------------------- 5.9/15.8 MB 2.6 MB/s eta 0:00:04\n",
      "   --------------- ------------------------ 6.0/15.8 MB 2.7 MB/s eta 0:00:04\n",
      "   ---------------- ----------------------- 6.5/15.8 MB 2.8 MB/s eta 0:00:04\n",
      "   ---------------- ----------------------- 6.5/15.8 MB 2.8 MB/s eta 0:00:04\n",
      "   ----------------- ---------------------- 6.7/15.8 MB 2.8 MB/s eta 0:00:04\n",
      "   ----------------- ---------------------- 6.9/15.8 MB 2.8 MB/s eta 0:00:04\n",
      "   ----------------- ---------------------- 6.9/15.8 MB 2.8 MB/s eta 0:00:04\n",
      "   ----------------- ---------------------- 6.9/15.8 MB 2.7 MB/s eta 0:00:04\n",
      "   ----------------- ---------------------- 7.0/15.8 MB 2.7 MB/s eta 0:00:04\n",
      "   ------------------ --------------------- 7.4/15.8 MB 2.8 MB/s eta 0:00:03\n",
      "   ------------------ --------------------- 7.4/15.8 MB 2.8 MB/s eta 0:00:03\n",
      "   ------------------ --------------------- 7.5/15.8 MB 2.8 MB/s eta 0:00:03\n",
      "   ------------------- -------------------- 7.9/15.8 MB 2.9 MB/s eta 0:00:03\n",
      "   -------------------- ------------------- 8.1/15.8 MB 2.9 MB/s eta 0:00:03\n",
      "   -------------------- ------------------- 8.1/15.8 MB 2.9 MB/s eta 0:00:03\n",
      "   --------------------- ------------------ 8.4/15.8 MB 2.9 MB/s eta 0:00:03\n",
      "   --------------------- ------------------ 8.4/15.8 MB 2.9 MB/s eta 0:00:03\n",
      "   --------------------- ------------------ 8.4/15.8 MB 2.9 MB/s eta 0:00:03\n",
      "   --------------------- ------------------ 8.4/15.8 MB 2.9 MB/s eta 0:00:03\n",
      "   ----------------------- ---------------- 9.2/15.8 MB 3.0 MB/s eta 0:00:03\n",
      "   ----------------------- ---------------- 9.3/15.8 MB 3.0 MB/s eta 0:00:03\n",
      "   ----------------------- ---------------- 9.3/15.8 MB 3.0 MB/s eta 0:00:03\n",
      "   ------------------------ --------------- 9.8/15.8 MB 3.1 MB/s eta 0:00:02\n",
      "   ------------------------- -------------- 10.0/15.8 MB 3.1 MB/s eta 0:00:02\n",
      "   ------------------------- -------------- 10.1/15.8 MB 3.1 MB/s eta 0:00:02\n",
      "   ------------------------- -------------- 10.3/15.8 MB 3.1 MB/s eta 0:00:02\n",
      "   -------------------------- ------------- 10.5/15.8 MB 3.1 MB/s eta 0:00:02\n",
      "   --------------------------- ------------ 10.8/15.8 MB 3.2 MB/s eta 0:00:02\n",
      "   --------------------------- ------------ 11.0/15.8 MB 3.2 MB/s eta 0:00:02\n",
      "   ---------------------------- ----------- 11.3/15.8 MB 3.3 MB/s eta 0:00:02\n",
      "   ---------------------------- ----------- 11.3/15.8 MB 3.3 MB/s eta 0:00:02\n",
      "   ---------------------------- ----------- 11.4/15.8 MB 3.2 MB/s eta 0:00:02\n",
      "   ----------------------------- ---------- 11.7/15.8 MB 3.2 MB/s eta 0:00:02\n",
      "   ------------------------------ --------- 11.9/15.8 MB 3.2 MB/s eta 0:00:02\n",
      "   ------------------------------ --------- 12.1/15.8 MB 3.2 MB/s eta 0:00:02\n",
      "   ------------------------------- -------- 12.3/15.8 MB 3.2 MB/s eta 0:00:02\n",
      "   ------------------------------- -------- 12.6/15.8 MB 3.1 MB/s eta 0:00:02\n",
      "   ------------------------------- -------- 12.6/15.8 MB 3.1 MB/s eta 0:00:02\n",
      "   -------------------------------- ------- 12.7/15.8 MB 3.1 MB/s eta 0:00:01\n",
      "   -------------------------------- ------- 12.8/15.8 MB 3.1 MB/s eta 0:00:01\n",
      "   --------------------------------- ------ 13.3/15.8 MB 3.2 MB/s eta 0:00:01\n",
      "   --------------------------------- ------ 13.4/15.8 MB 3.2 MB/s eta 0:00:01\n",
      "   ---------------------------------- ----- 13.5/15.8 MB 3.1 MB/s eta 0:00:01\n",
      "   ---------------------------------- ----- 13.5/15.8 MB 3.1 MB/s eta 0:00:01\n",
      "   ---------------------------------- ----- 13.6/15.8 MB 3.1 MB/s eta 0:00:01\n",
      "   ---------------------------------- ----- 13.7/15.8 MB 3.2 MB/s eta 0:00:01\n",
      "   ----------------------------------- ---- 13.9/15.8 MB 3.2 MB/s eta 0:00:01\n",
      "   ----------------------------------- ---- 14.1/15.8 MB 3.3 MB/s eta 0:00:01\n",
      "   ------------------------------------ --- 14.2/15.8 MB 3.3 MB/s eta 0:00:01\n",
      "   ------------------------------------ --- 14.4/15.8 MB 3.3 MB/s eta 0:00:01\n",
      "   ------------------------------------- -- 14.8/15.8 MB 3.8 MB/s eta 0:00:01\n",
      "   -------------------------------------- - 15.1/15.8 MB 3.9 MB/s eta 0:00:01\n",
      "   -------------------------------------- - 15.3/15.8 MB 4.1 MB/s eta 0:00:01\n",
      "   ---------------------------------------  15.5/15.8 MB 4.2 MB/s eta 0:00:01\n",
      "   ---------------------------------------  15.6/15.8 MB 4.2 MB/s eta 0:00:01\n",
      "   ---------------------------------------  15.8/15.8 MB 4.2 MB/s eta 0:00:01\n",
      "   ---------------------------------------- 15.8/15.8 MB 4.1 MB/s eta 0:00:00\n",
      "Downloading fst_pso-1.9.0-py3-none-any.whl (25 kB)\n",
      "Downloading simpful-2.12.0-py3-none-any.whl (24 kB)\n",
      "Building wheels for collected packages: miniful\n",
      "  Building wheel for miniful (setup.py): started\n",
      "  Building wheel for miniful (setup.py): finished with status 'done'\n",
      "  Created wheel for miniful: filename=miniful-0.0.6-py3-none-any.whl size=3522 sha256=a283e6dede3b847a34f7741b131908478f672bc8f4019df18a2c5c49e1207a4b\n",
      "  Stored in directory: c:\\users\\naushad\\appdata\\local\\pip\\cache\\wheels\\9d\\ff\\2f\\afe4cd56f47de147407705626517d68bea0f3b74eb1fb168e6\n",
      "Successfully built miniful\n",
      "Installing collected packages: numpy, ndindex, cython, simpful, miniful, blosc2, fst-pso, pyfume, FuzzyTM\n",
      "  Attempting uninstall: numpy\n",
      "    Found existing installation: numpy 1.24.3\n",
      "    Uninstalling numpy-1.24.3:\n",
      "      Successfully uninstalled numpy-1.24.3\n"
     ]
    }
   ],
   "source": [
    "pip install FuzzyTM blosc2 cython\n"
   ]
  },
  {
   "cell_type": "code",
   "execution_count": 1,
   "id": "def020d8",
   "metadata": {},
   "outputs": [
    {
     "name": "stdout",
     "output_type": "stream",
     "text": [
      "Defaulting to user installation because normal site-packages is not writeable\n",
      "Requirement already satisfied: faiss-cpu in c:\\users\\naushad\\appdata\\roaming\\python\\python311\\site-packages (1.11.0)\n",
      "Requirement already satisfied: numpy<3.0,>=1.25.0 in c:\\users\\naushad\\appdata\\roaming\\python\\python311\\site-packages (from faiss-cpu) (1.26.4)\n",
      "Requirement already satisfied: packaging in c:\\programdata\\anaconda3\\lib\\site-packages (from faiss-cpu) (23.0)\n",
      "Note: you may need to restart the kernel to use updated packages.\n"
     ]
    }
   ],
   "source": [
    "pip install faiss-cpu\n"
   ]
  },
  {
   "cell_type": "code",
   "execution_count": 2,
   "id": "9e22f2a2",
   "metadata": {},
   "outputs": [
    {
     "ename": "SyntaxError",
     "evalue": "invalid syntax (3729363882.py, line 1)",
     "output_type": "error",
     "traceback": [
      "\u001b[1;36m  Cell \u001b[1;32mIn[2], line 1\u001b[1;36m\u001b[0m\n\u001b[1;33m    python -m venv ragenv\u001b[0m\n\u001b[1;37m              ^\u001b[0m\n\u001b[1;31mSyntaxError\u001b[0m\u001b[1;31m:\u001b[0m invalid syntax\n"
     ]
    }
   ],
   "source": [
    "python -m venv ragenv\n",
    ".\\ragenv\\Scripts\\activate\n",
    "pip install -r requirements.txt\n"
   ]
  },
  {
   "cell_type": "code",
   "execution_count": 8,
   "id": "c8cbad16",
   "metadata": {},
   "outputs": [
    {
     "name": "stdout",
     "output_type": "stream",
     "text": [
      "Total vectors in index: 40\n"
     ]
    },
    {
     "ename": "RuntimeError",
     "evalue": "Error in __cdecl faiss::FileIOWriter::FileIOWriter(const char *) at D:\\a\\faiss-wheels\\faiss-wheels\\faiss\\faiss\\impl\\io.cpp:102: Error: 'f' failed: could not open vectordb/index.faiss for writing: No such file or directory",
     "output_type": "error",
     "traceback": [
      "\u001b[1;31m---------------------------------------------------------------------------\u001b[0m",
      "\u001b[1;31mRuntimeError\u001b[0m                              Traceback (most recent call last)",
      "Cell \u001b[1;32mIn[8], line 11\u001b[0m\n\u001b[0;32m      8\u001b[0m \u001b[38;5;28mprint\u001b[39m(\u001b[38;5;124mf\u001b[39m\u001b[38;5;124m\"\u001b[39m\u001b[38;5;124mTotal vectors in index: \u001b[39m\u001b[38;5;132;01m{\u001b[39;00mindex\u001b[38;5;241m.\u001b[39mntotal\u001b[38;5;132;01m}\u001b[39;00m\u001b[38;5;124m\"\u001b[39m)\n\u001b[0;32m     10\u001b[0m \u001b[38;5;66;03m# Save index to disk\u001b[39;00m\n\u001b[1;32m---> 11\u001b[0m faiss\u001b[38;5;241m.\u001b[39mwrite_index(index, \u001b[38;5;124m\"\u001b[39m\u001b[38;5;124mvectordb/index.faiss\u001b[39m\u001b[38;5;124m\"\u001b[39m)\n\u001b[0;32m     13\u001b[0m \u001b[38;5;28mprint\u001b[39m(\u001b[38;5;124m\"\u001b[39m\u001b[38;5;124mFAISS index saved successfully.\u001b[39m\u001b[38;5;124m\"\u001b[39m)\n",
      "File \u001b[1;32m~\\AppData\\Roaming\\Python\\Python311\\site-packages\\faiss\\swigfaiss_avx2.py:11135\u001b[0m, in \u001b[0;36mwrite_index\u001b[1;34m(*args)\u001b[0m\n\u001b[0;32m  11134\u001b[0m \u001b[38;5;28;01mdef\u001b[39;00m \u001b[38;5;21mwrite_index\u001b[39m(\u001b[38;5;241m*\u001b[39margs):\n\u001b[1;32m> 11135\u001b[0m     \u001b[38;5;28;01mreturn\u001b[39;00m _swigfaiss_avx2\u001b[38;5;241m.\u001b[39mwrite_index(\u001b[38;5;241m*\u001b[39margs)\n",
      "\u001b[1;31mRuntimeError\u001b[0m: Error in __cdecl faiss::FileIOWriter::FileIOWriter(const char *) at D:\\a\\faiss-wheels\\faiss-wheels\\faiss\\faiss\\impl\\io.cpp:102: Error: 'f' failed: could not open vectordb/index.faiss for writing: No such file or directory"
     ]
    }
   ],
   "source": [
    "import faiss\n",
    "\n",
    "dimension = embeddings.shape[1]  # Should be 384 for MiniLM\n",
    "\n",
    "index = faiss.IndexFlatL2(dimension)\n",
    "index.add(embeddings)\n",
    "\n",
    "print(f\"Total vectors in index: {index.ntotal}\")\n",
    "\n",
    "# Save index to disk\n",
    "faiss.write_index(index, \"vectordb/index.faiss\")\n",
    "\n",
    "print(\"FAISS index saved successfully.\")\n"
   ]
  },
  {
   "cell_type": "code",
   "execution_count": 10,
   "id": "d70bc196",
   "metadata": {},
   "outputs": [],
   "source": [
    "import os\n",
    "\n",
    "os.makedirs(\"vectordb\", exist_ok=True)  # ✅ Create folder if it doesn't exist\n"
   ]
  },
  {
   "cell_type": "code",
   "execution_count": 12,
   "id": "5f3ae427",
   "metadata": {},
   "outputs": [
    {
     "name": "stdout",
     "output_type": "stream",
     "text": [
      "Total vectors in index: 40\n",
      "FAISS index saved successfully.\n"
     ]
    }
   ],
   "source": [
    "import faiss\n",
    "\n",
    "dimension = embeddings.shape[1]  # Should be 384 for MiniLM\n",
    "\n",
    "index = faiss.IndexFlatL2(dimension)\n",
    "index.add(embeddings)\n",
    "\n",
    "print(f\"Total vectors in index: {index.ntotal}\")\n",
    "\n",
    "# Save index to disk\n",
    "faiss.write_index(index, \"vectordb/index.faiss\")\n",
    "\n",
    "print(\"FAISS index saved successfully.\")\n",
    "np.save(\"vectordb/chunks.npy\", chunks)"
   ]
  },
  {
   "cell_type": "code",
   "execution_count": 13,
   "id": "21cfe89d",
   "metadata": {},
   "outputs": [],
   "source": [
    "import faiss\n",
    "import numpy as np\n",
    "from sentence_transformers import SentenceTransformer\n",
    "\n",
    "# ✅ Load FAISS index and chunks\n",
    "index = faiss.read_index(\"vectordb/index.faiss\")\n",
    "chunks = np.load(\"vectordb/chunks.npy\", allow_pickle=True)\n",
    "\n",
    "# ✅ Load embedding model\n",
    "embedder = SentenceTransformer(\"all-MiniLM-L6-v2\")\n"
   ]
  },
  {
   "cell_type": "code",
   "execution_count": 14,
   "id": "403b0ccb",
   "metadata": {},
   "outputs": [],
   "source": [
    "def retrieve_relevant_chunks(query, k=3):\n",
    "    query_embedding = embedder.encode([query])\n",
    "    D, I = index.search(query_embedding, k)\n",
    "    retrieved = [chunks[i] for i in I[0]]\n",
    "    return retrieved\n"
   ]
  },
  {
   "cell_type": "code",
   "execution_count": 16,
   "id": "464c80f3",
   "metadata": {},
   "outputs": [],
   "source": [
    "def build_prompt(retrieved_chunks, user_query):\n",
    "    context = \"\\n\\n\".join(retrieved_chunks)\n",
    "    prompt = f\"\"\"\n",
    "You are an AI assistant. Answer the user's question based on the context provided below.\n",
    "\n",
    "Context:\n",
    "{context}\n",
    "\n",
    "Question: {user_query}\n",
    "\n",
    "Answer:\"\"\"\n",
    "    return prompt\n"
   ]
  },
  {
   "cell_type": "code",
   "execution_count": 17,
   "id": "80db06d1",
   "metadata": {},
   "outputs": [
    {
     "ename": "OSError",
     "evalue": "You are trying to access a gated repo.\nMake sure to have access to it at https://huggingface.co/mistralai/Mistral-7B-Instruct-v0.2.\n401 Client Error. (Request ID: Root=1-685d8d73-74c078f516f0e9c05a3faaff;78d73ea4-5dbd-444f-8554-181c91d6012f)\n\nCannot access gated repo for url https://huggingface.co/mistralai/Mistral-7B-Instruct-v0.2/resolve/main/config.json.\nAccess to model mistralai/Mistral-7B-Instruct-v0.2 is restricted. You must have access to it and be authenticated to access it. Please log in.",
     "output_type": "error",
     "traceback": [
      "\u001b[1;31m---------------------------------------------------------------------------\u001b[0m",
      "\u001b[1;31mHTTPError\u001b[0m                                 Traceback (most recent call last)",
      "File \u001b[1;32m~\\AppData\\Roaming\\Python\\Python311\\site-packages\\huggingface_hub\\utils\\_http.py:409\u001b[0m, in \u001b[0;36mhf_raise_for_status\u001b[1;34m(response, endpoint_name)\u001b[0m\n\u001b[0;32m    408\u001b[0m \u001b[38;5;28;01mtry\u001b[39;00m:\n\u001b[1;32m--> 409\u001b[0m     response\u001b[38;5;241m.\u001b[39mraise_for_status()\n\u001b[0;32m    410\u001b[0m \u001b[38;5;28;01mexcept\u001b[39;00m HTTPError \u001b[38;5;28;01mas\u001b[39;00m e:\n",
      "File \u001b[1;32mC:\\ProgramData\\anaconda3\\Lib\\site-packages\\requests\\models.py:1021\u001b[0m, in \u001b[0;36mResponse.raise_for_status\u001b[1;34m(self)\u001b[0m\n\u001b[0;32m   1020\u001b[0m \u001b[38;5;28;01mif\u001b[39;00m http_error_msg:\n\u001b[1;32m-> 1021\u001b[0m     \u001b[38;5;28;01mraise\u001b[39;00m HTTPError(http_error_msg, response\u001b[38;5;241m=\u001b[39m\u001b[38;5;28mself\u001b[39m)\n",
      "\u001b[1;31mHTTPError\u001b[0m: 401 Client Error: Unauthorized for url: https://huggingface.co/mistralai/Mistral-7B-Instruct-v0.2/resolve/main/config.json",
      "\nThe above exception was the direct cause of the following exception:\n",
      "\u001b[1;31mGatedRepoError\u001b[0m                            Traceback (most recent call last)",
      "File \u001b[1;32m~\\AppData\\Roaming\\Python\\Python311\\site-packages\\transformers\\utils\\hub.py:470\u001b[0m, in \u001b[0;36mcached_files\u001b[1;34m(path_or_repo_id, filenames, cache_dir, force_download, resume_download, proxies, token, revision, local_files_only, subfolder, repo_type, user_agent, _raise_exceptions_for_gated_repo, _raise_exceptions_for_missing_entries, _raise_exceptions_for_connection_errors, _commit_hash, **deprecated_kwargs)\u001b[0m\n\u001b[0;32m    468\u001b[0m \u001b[38;5;28;01mif\u001b[39;00m \u001b[38;5;28mlen\u001b[39m(full_filenames) \u001b[38;5;241m==\u001b[39m \u001b[38;5;241m1\u001b[39m:\n\u001b[0;32m    469\u001b[0m     \u001b[38;5;66;03m# This is slightly better for only 1 file\u001b[39;00m\n\u001b[1;32m--> 470\u001b[0m     hf_hub_download(\n\u001b[0;32m    471\u001b[0m         path_or_repo_id,\n\u001b[0;32m    472\u001b[0m         filenames[\u001b[38;5;241m0\u001b[39m],\n\u001b[0;32m    473\u001b[0m         subfolder\u001b[38;5;241m=\u001b[39m\u001b[38;5;28;01mNone\u001b[39;00m \u001b[38;5;28;01mif\u001b[39;00m \u001b[38;5;28mlen\u001b[39m(subfolder) \u001b[38;5;241m==\u001b[39m \u001b[38;5;241m0\u001b[39m \u001b[38;5;28;01melse\u001b[39;00m subfolder,\n\u001b[0;32m    474\u001b[0m         repo_type\u001b[38;5;241m=\u001b[39mrepo_type,\n\u001b[0;32m    475\u001b[0m         revision\u001b[38;5;241m=\u001b[39mrevision,\n\u001b[0;32m    476\u001b[0m         cache_dir\u001b[38;5;241m=\u001b[39mcache_dir,\n\u001b[0;32m    477\u001b[0m         user_agent\u001b[38;5;241m=\u001b[39muser_agent,\n\u001b[0;32m    478\u001b[0m         force_download\u001b[38;5;241m=\u001b[39mforce_download,\n\u001b[0;32m    479\u001b[0m         proxies\u001b[38;5;241m=\u001b[39mproxies,\n\u001b[0;32m    480\u001b[0m         resume_download\u001b[38;5;241m=\u001b[39mresume_download,\n\u001b[0;32m    481\u001b[0m         token\u001b[38;5;241m=\u001b[39mtoken,\n\u001b[0;32m    482\u001b[0m         local_files_only\u001b[38;5;241m=\u001b[39mlocal_files_only,\n\u001b[0;32m    483\u001b[0m     )\n\u001b[0;32m    484\u001b[0m \u001b[38;5;28;01melse\u001b[39;00m:\n",
      "File \u001b[1;32m~\\AppData\\Roaming\\Python\\Python311\\site-packages\\huggingface_hub\\utils\\_validators.py:114\u001b[0m, in \u001b[0;36mvalidate_hf_hub_args.<locals>._inner_fn\u001b[1;34m(*args, **kwargs)\u001b[0m\n\u001b[0;32m    112\u001b[0m     kwargs \u001b[38;5;241m=\u001b[39m smoothly_deprecate_use_auth_token(fn_name\u001b[38;5;241m=\u001b[39mfn\u001b[38;5;241m.\u001b[39m\u001b[38;5;18m__name__\u001b[39m, has_token\u001b[38;5;241m=\u001b[39mhas_token, kwargs\u001b[38;5;241m=\u001b[39mkwargs)\n\u001b[1;32m--> 114\u001b[0m \u001b[38;5;28;01mreturn\u001b[39;00m fn(\u001b[38;5;241m*\u001b[39margs, \u001b[38;5;241m*\u001b[39m\u001b[38;5;241m*\u001b[39mkwargs)\n",
      "File \u001b[1;32m~\\AppData\\Roaming\\Python\\Python311\\site-packages\\huggingface_hub\\file_download.py:1008\u001b[0m, in \u001b[0;36mhf_hub_download\u001b[1;34m(repo_id, filename, subfolder, repo_type, revision, library_name, library_version, cache_dir, local_dir, user_agent, force_download, proxies, etag_timeout, token, local_files_only, headers, endpoint, resume_download, force_filename, local_dir_use_symlinks)\u001b[0m\n\u001b[0;32m   1007\u001b[0m \u001b[38;5;28;01melse\u001b[39;00m:\n\u001b[1;32m-> 1008\u001b[0m     \u001b[38;5;28;01mreturn\u001b[39;00m _hf_hub_download_to_cache_dir(\n\u001b[0;32m   1009\u001b[0m         \u001b[38;5;66;03m# Destination\u001b[39;00m\n\u001b[0;32m   1010\u001b[0m         cache_dir\u001b[38;5;241m=\u001b[39mcache_dir,\n\u001b[0;32m   1011\u001b[0m         \u001b[38;5;66;03m# File info\u001b[39;00m\n\u001b[0;32m   1012\u001b[0m         repo_id\u001b[38;5;241m=\u001b[39mrepo_id,\n\u001b[0;32m   1013\u001b[0m         filename\u001b[38;5;241m=\u001b[39mfilename,\n\u001b[0;32m   1014\u001b[0m         repo_type\u001b[38;5;241m=\u001b[39mrepo_type,\n\u001b[0;32m   1015\u001b[0m         revision\u001b[38;5;241m=\u001b[39mrevision,\n\u001b[0;32m   1016\u001b[0m         \u001b[38;5;66;03m# HTTP info\u001b[39;00m\n\u001b[0;32m   1017\u001b[0m         endpoint\u001b[38;5;241m=\u001b[39mendpoint,\n\u001b[0;32m   1018\u001b[0m         etag_timeout\u001b[38;5;241m=\u001b[39metag_timeout,\n\u001b[0;32m   1019\u001b[0m         headers\u001b[38;5;241m=\u001b[39mhf_headers,\n\u001b[0;32m   1020\u001b[0m         proxies\u001b[38;5;241m=\u001b[39mproxies,\n\u001b[0;32m   1021\u001b[0m         token\u001b[38;5;241m=\u001b[39mtoken,\n\u001b[0;32m   1022\u001b[0m         \u001b[38;5;66;03m# Additional options\u001b[39;00m\n\u001b[0;32m   1023\u001b[0m         local_files_only\u001b[38;5;241m=\u001b[39mlocal_files_only,\n\u001b[0;32m   1024\u001b[0m         force_download\u001b[38;5;241m=\u001b[39mforce_download,\n\u001b[0;32m   1025\u001b[0m     )\n",
      "File \u001b[1;32m~\\AppData\\Roaming\\Python\\Python311\\site-packages\\huggingface_hub\\file_download.py:1115\u001b[0m, in \u001b[0;36m_hf_hub_download_to_cache_dir\u001b[1;34m(cache_dir, repo_id, filename, repo_type, revision, endpoint, etag_timeout, headers, proxies, token, local_files_only, force_download)\u001b[0m\n\u001b[0;32m   1114\u001b[0m     \u001b[38;5;66;03m# Otherwise, raise appropriate error\u001b[39;00m\n\u001b[1;32m-> 1115\u001b[0m     _raise_on_head_call_error(head_call_error, force_download, local_files_only)\n\u001b[0;32m   1117\u001b[0m \u001b[38;5;66;03m# From now on, etag, commit_hash, url and size are not None.\u001b[39;00m\n",
      "File \u001b[1;32m~\\AppData\\Roaming\\Python\\Python311\\site-packages\\huggingface_hub\\file_download.py:1645\u001b[0m, in \u001b[0;36m_raise_on_head_call_error\u001b[1;34m(head_call_error, force_download, local_files_only)\u001b[0m\n\u001b[0;32m   1640\u001b[0m \u001b[38;5;28;01melif\u001b[39;00m \u001b[38;5;28misinstance\u001b[39m(head_call_error, (RepositoryNotFoundError, GatedRepoError)) \u001b[38;5;129;01mor\u001b[39;00m (\n\u001b[0;32m   1641\u001b[0m     \u001b[38;5;28misinstance\u001b[39m(head_call_error, HfHubHTTPError) \u001b[38;5;129;01mand\u001b[39;00m head_call_error\u001b[38;5;241m.\u001b[39mresponse\u001b[38;5;241m.\u001b[39mstatus_code \u001b[38;5;241m==\u001b[39m \u001b[38;5;241m401\u001b[39m\n\u001b[0;32m   1642\u001b[0m ):\n\u001b[0;32m   1643\u001b[0m     \u001b[38;5;66;03m# Repo not found or gated => let's raise the actual error\u001b[39;00m\n\u001b[0;32m   1644\u001b[0m     \u001b[38;5;66;03m# Unauthorized => likely a token issue => let's raise the actual error\u001b[39;00m\n\u001b[1;32m-> 1645\u001b[0m     \u001b[38;5;28;01mraise\u001b[39;00m head_call_error\n\u001b[0;32m   1646\u001b[0m \u001b[38;5;28;01melse\u001b[39;00m:\n\u001b[0;32m   1647\u001b[0m     \u001b[38;5;66;03m# Otherwise: most likely a connection issue or Hub downtime => let's warn the user\u001b[39;00m\n",
      "File \u001b[1;32m~\\AppData\\Roaming\\Python\\Python311\\site-packages\\huggingface_hub\\file_download.py:1533\u001b[0m, in \u001b[0;36m_get_metadata_or_catch_error\u001b[1;34m(repo_id, filename, repo_type, revision, endpoint, proxies, etag_timeout, headers, token, local_files_only, relative_filename, storage_folder)\u001b[0m\n\u001b[0;32m   1532\u001b[0m \u001b[38;5;28;01mtry\u001b[39;00m:\n\u001b[1;32m-> 1533\u001b[0m     metadata \u001b[38;5;241m=\u001b[39m get_hf_file_metadata(\n\u001b[0;32m   1534\u001b[0m         url\u001b[38;5;241m=\u001b[39murl, proxies\u001b[38;5;241m=\u001b[39mproxies, timeout\u001b[38;5;241m=\u001b[39metag_timeout, headers\u001b[38;5;241m=\u001b[39mheaders, token\u001b[38;5;241m=\u001b[39mtoken\n\u001b[0;32m   1535\u001b[0m     )\n\u001b[0;32m   1536\u001b[0m \u001b[38;5;28;01mexcept\u001b[39;00m EntryNotFoundError \u001b[38;5;28;01mas\u001b[39;00m http_error:\n",
      "File \u001b[1;32m~\\AppData\\Roaming\\Python\\Python311\\site-packages\\huggingface_hub\\utils\\_validators.py:114\u001b[0m, in \u001b[0;36mvalidate_hf_hub_args.<locals>._inner_fn\u001b[1;34m(*args, **kwargs)\u001b[0m\n\u001b[0;32m    112\u001b[0m     kwargs \u001b[38;5;241m=\u001b[39m smoothly_deprecate_use_auth_token(fn_name\u001b[38;5;241m=\u001b[39mfn\u001b[38;5;241m.\u001b[39m\u001b[38;5;18m__name__\u001b[39m, has_token\u001b[38;5;241m=\u001b[39mhas_token, kwargs\u001b[38;5;241m=\u001b[39mkwargs)\n\u001b[1;32m--> 114\u001b[0m \u001b[38;5;28;01mreturn\u001b[39;00m fn(\u001b[38;5;241m*\u001b[39margs, \u001b[38;5;241m*\u001b[39m\u001b[38;5;241m*\u001b[39mkwargs)\n",
      "File \u001b[1;32m~\\AppData\\Roaming\\Python\\Python311\\site-packages\\huggingface_hub\\file_download.py:1450\u001b[0m, in \u001b[0;36mget_hf_file_metadata\u001b[1;34m(url, token, proxies, timeout, library_name, library_version, user_agent, headers)\u001b[0m\n\u001b[0;32m   1449\u001b[0m \u001b[38;5;66;03m# Retrieve metadata\u001b[39;00m\n\u001b[1;32m-> 1450\u001b[0m r \u001b[38;5;241m=\u001b[39m _request_wrapper(\n\u001b[0;32m   1451\u001b[0m     method\u001b[38;5;241m=\u001b[39m\u001b[38;5;124m\"\u001b[39m\u001b[38;5;124mHEAD\u001b[39m\u001b[38;5;124m\"\u001b[39m,\n\u001b[0;32m   1452\u001b[0m     url\u001b[38;5;241m=\u001b[39murl,\n\u001b[0;32m   1453\u001b[0m     headers\u001b[38;5;241m=\u001b[39mhf_headers,\n\u001b[0;32m   1454\u001b[0m     allow_redirects\u001b[38;5;241m=\u001b[39m\u001b[38;5;28;01mFalse\u001b[39;00m,\n\u001b[0;32m   1455\u001b[0m     follow_relative_redirects\u001b[38;5;241m=\u001b[39m\u001b[38;5;28;01mTrue\u001b[39;00m,\n\u001b[0;32m   1456\u001b[0m     proxies\u001b[38;5;241m=\u001b[39mproxies,\n\u001b[0;32m   1457\u001b[0m     timeout\u001b[38;5;241m=\u001b[39mtimeout,\n\u001b[0;32m   1458\u001b[0m )\n\u001b[0;32m   1459\u001b[0m hf_raise_for_status(r)\n",
      "File \u001b[1;32m~\\AppData\\Roaming\\Python\\Python311\\site-packages\\huggingface_hub\\file_download.py:286\u001b[0m, in \u001b[0;36m_request_wrapper\u001b[1;34m(method, url, follow_relative_redirects, **params)\u001b[0m\n\u001b[0;32m    285\u001b[0m \u001b[38;5;28;01mif\u001b[39;00m follow_relative_redirects:\n\u001b[1;32m--> 286\u001b[0m     response \u001b[38;5;241m=\u001b[39m _request_wrapper(\n\u001b[0;32m    287\u001b[0m         method\u001b[38;5;241m=\u001b[39mmethod,\n\u001b[0;32m    288\u001b[0m         url\u001b[38;5;241m=\u001b[39murl,\n\u001b[0;32m    289\u001b[0m         follow_relative_redirects\u001b[38;5;241m=\u001b[39m\u001b[38;5;28;01mFalse\u001b[39;00m,\n\u001b[0;32m    290\u001b[0m         \u001b[38;5;241m*\u001b[39m\u001b[38;5;241m*\u001b[39mparams,\n\u001b[0;32m    291\u001b[0m     )\n\u001b[0;32m    293\u001b[0m     \u001b[38;5;66;03m# If redirection, we redirect only relative paths.\u001b[39;00m\n\u001b[0;32m    294\u001b[0m     \u001b[38;5;66;03m# This is useful in case of a renamed repository.\u001b[39;00m\n",
      "File \u001b[1;32m~\\AppData\\Roaming\\Python\\Python311\\site-packages\\huggingface_hub\\file_download.py:310\u001b[0m, in \u001b[0;36m_request_wrapper\u001b[1;34m(method, url, follow_relative_redirects, **params)\u001b[0m\n\u001b[0;32m    309\u001b[0m response \u001b[38;5;241m=\u001b[39m http_backoff(method\u001b[38;5;241m=\u001b[39mmethod, url\u001b[38;5;241m=\u001b[39murl, \u001b[38;5;241m*\u001b[39m\u001b[38;5;241m*\u001b[39mparams, retry_on_exceptions\u001b[38;5;241m=\u001b[39m(), retry_on_status_codes\u001b[38;5;241m=\u001b[39m(\u001b[38;5;241m429\u001b[39m,))\n\u001b[1;32m--> 310\u001b[0m hf_raise_for_status(response)\n\u001b[0;32m    311\u001b[0m \u001b[38;5;28;01mreturn\u001b[39;00m response\n",
      "File \u001b[1;32m~\\AppData\\Roaming\\Python\\Python311\\site-packages\\huggingface_hub\\utils\\_http.py:426\u001b[0m, in \u001b[0;36mhf_raise_for_status\u001b[1;34m(response, endpoint_name)\u001b[0m\n\u001b[0;32m    423\u001b[0m     message \u001b[38;5;241m=\u001b[39m (\n\u001b[0;32m    424\u001b[0m         \u001b[38;5;124mf\u001b[39m\u001b[38;5;124m\"\u001b[39m\u001b[38;5;132;01m{\u001b[39;00mresponse\u001b[38;5;241m.\u001b[39mstatus_code\u001b[38;5;132;01m}\u001b[39;00m\u001b[38;5;124m Client Error.\u001b[39m\u001b[38;5;124m\"\u001b[39m \u001b[38;5;241m+\u001b[39m \u001b[38;5;124m\"\u001b[39m\u001b[38;5;130;01m\\n\u001b[39;00m\u001b[38;5;130;01m\\n\u001b[39;00m\u001b[38;5;124m\"\u001b[39m \u001b[38;5;241m+\u001b[39m \u001b[38;5;124mf\u001b[39m\u001b[38;5;124m\"\u001b[39m\u001b[38;5;124mCannot access gated repo for url \u001b[39m\u001b[38;5;132;01m{\u001b[39;00mresponse\u001b[38;5;241m.\u001b[39murl\u001b[38;5;132;01m}\u001b[39;00m\u001b[38;5;124m.\u001b[39m\u001b[38;5;124m\"\u001b[39m\n\u001b[0;32m    425\u001b[0m     )\n\u001b[1;32m--> 426\u001b[0m     \u001b[38;5;28;01mraise\u001b[39;00m _format(GatedRepoError, message, response) \u001b[38;5;28;01mfrom\u001b[39;00m \u001b[38;5;21;01me\u001b[39;00m\n\u001b[0;32m    428\u001b[0m \u001b[38;5;28;01melif\u001b[39;00m error_message \u001b[38;5;241m==\u001b[39m \u001b[38;5;124m\"\u001b[39m\u001b[38;5;124mAccess to this resource is disabled.\u001b[39m\u001b[38;5;124m\"\u001b[39m:\n",
      "\u001b[1;31mGatedRepoError\u001b[0m: 401 Client Error. (Request ID: Root=1-685d8d73-74c078f516f0e9c05a3faaff;78d73ea4-5dbd-444f-8554-181c91d6012f)\n\nCannot access gated repo for url https://huggingface.co/mistralai/Mistral-7B-Instruct-v0.2/resolve/main/config.json.\nAccess to model mistralai/Mistral-7B-Instruct-v0.2 is restricted. You must have access to it and be authenticated to access it. Please log in.",
      "\nThe above exception was the direct cause of the following exception:\n",
      "\u001b[1;31mOSError\u001b[0m                                   Traceback (most recent call last)",
      "Cell \u001b[1;32mIn[17], line 6\u001b[0m\n\u001b[0;32m      3\u001b[0m \u001b[38;5;66;03m# ✅ Load LLM (small open-source model for testing)\u001b[39;00m\n\u001b[0;32m      4\u001b[0m model_name \u001b[38;5;241m=\u001b[39m \u001b[38;5;124m\"\u001b[39m\u001b[38;5;124mmistralai/Mistral-7B-Instruct-v0.2\u001b[39m\u001b[38;5;124m\"\u001b[39m\n\u001b[1;32m----> 6\u001b[0m tokenizer \u001b[38;5;241m=\u001b[39m AutoTokenizer\u001b[38;5;241m.\u001b[39mfrom_pretrained(model_name)\n\u001b[0;32m      7\u001b[0m model \u001b[38;5;241m=\u001b[39m AutoModelForCausalLM\u001b[38;5;241m.\u001b[39mfrom_pretrained(model_name, device_map\u001b[38;5;241m=\u001b[39m\u001b[38;5;124m\"\u001b[39m\u001b[38;5;124mauto\u001b[39m\u001b[38;5;124m\"\u001b[39m)\n\u001b[0;32m      9\u001b[0m generator \u001b[38;5;241m=\u001b[39m pipeline(\u001b[38;5;124m\"\u001b[39m\u001b[38;5;124mtext-generation\u001b[39m\u001b[38;5;124m\"\u001b[39m, model\u001b[38;5;241m=\u001b[39mmodel, tokenizer\u001b[38;5;241m=\u001b[39mtokenizer)\n",
      "File \u001b[1;32m~\\AppData\\Roaming\\Python\\Python311\\site-packages\\transformers\\models\\auto\\tokenization_auto.py:970\u001b[0m, in \u001b[0;36mAutoTokenizer.from_pretrained\u001b[1;34m(cls, pretrained_model_name_or_path, *inputs, **kwargs)\u001b[0m\n\u001b[0;32m    968\u001b[0m         config \u001b[38;5;241m=\u001b[39m AutoConfig\u001b[38;5;241m.\u001b[39mfor_model(\u001b[38;5;241m*\u001b[39m\u001b[38;5;241m*\u001b[39mconfig_dict)\n\u001b[0;32m    969\u001b[0m     \u001b[38;5;28;01melse\u001b[39;00m:\n\u001b[1;32m--> 970\u001b[0m         config \u001b[38;5;241m=\u001b[39m AutoConfig\u001b[38;5;241m.\u001b[39mfrom_pretrained(\n\u001b[0;32m    971\u001b[0m             pretrained_model_name_or_path, trust_remote_code\u001b[38;5;241m=\u001b[39mtrust_remote_code, \u001b[38;5;241m*\u001b[39m\u001b[38;5;241m*\u001b[39mkwargs\n\u001b[0;32m    972\u001b[0m         )\n\u001b[0;32m    973\u001b[0m config_tokenizer_class \u001b[38;5;241m=\u001b[39m config\u001b[38;5;241m.\u001b[39mtokenizer_class\n\u001b[0;32m    974\u001b[0m \u001b[38;5;28;01mif\u001b[39;00m \u001b[38;5;28mhasattr\u001b[39m(config, \u001b[38;5;124m\"\u001b[39m\u001b[38;5;124mauto_map\u001b[39m\u001b[38;5;124m\"\u001b[39m) \u001b[38;5;129;01mand\u001b[39;00m \u001b[38;5;124m\"\u001b[39m\u001b[38;5;124mAutoTokenizer\u001b[39m\u001b[38;5;124m\"\u001b[39m \u001b[38;5;129;01min\u001b[39;00m config\u001b[38;5;241m.\u001b[39mauto_map:\n",
      "File \u001b[1;32m~\\AppData\\Roaming\\Python\\Python311\\site-packages\\transformers\\models\\auto\\configuration_auto.py:1153\u001b[0m, in \u001b[0;36mAutoConfig.from_pretrained\u001b[1;34m(cls, pretrained_model_name_or_path, **kwargs)\u001b[0m\n\u001b[0;32m   1150\u001b[0m trust_remote_code \u001b[38;5;241m=\u001b[39m kwargs\u001b[38;5;241m.\u001b[39mpop(\u001b[38;5;124m\"\u001b[39m\u001b[38;5;124mtrust_remote_code\u001b[39m\u001b[38;5;124m\"\u001b[39m, \u001b[38;5;28;01mNone\u001b[39;00m)\n\u001b[0;32m   1151\u001b[0m code_revision \u001b[38;5;241m=\u001b[39m kwargs\u001b[38;5;241m.\u001b[39mpop(\u001b[38;5;124m\"\u001b[39m\u001b[38;5;124mcode_revision\u001b[39m\u001b[38;5;124m\"\u001b[39m, \u001b[38;5;28;01mNone\u001b[39;00m)\n\u001b[1;32m-> 1153\u001b[0m config_dict, unused_kwargs \u001b[38;5;241m=\u001b[39m PretrainedConfig\u001b[38;5;241m.\u001b[39mget_config_dict(pretrained_model_name_or_path, \u001b[38;5;241m*\u001b[39m\u001b[38;5;241m*\u001b[39mkwargs)\n\u001b[0;32m   1154\u001b[0m has_remote_code \u001b[38;5;241m=\u001b[39m \u001b[38;5;124m\"\u001b[39m\u001b[38;5;124mauto_map\u001b[39m\u001b[38;5;124m\"\u001b[39m \u001b[38;5;129;01min\u001b[39;00m config_dict \u001b[38;5;129;01mand\u001b[39;00m \u001b[38;5;124m\"\u001b[39m\u001b[38;5;124mAutoConfig\u001b[39m\u001b[38;5;124m\"\u001b[39m \u001b[38;5;129;01min\u001b[39;00m config_dict[\u001b[38;5;124m\"\u001b[39m\u001b[38;5;124mauto_map\u001b[39m\u001b[38;5;124m\"\u001b[39m]\n\u001b[0;32m   1155\u001b[0m has_local_code \u001b[38;5;241m=\u001b[39m \u001b[38;5;124m\"\u001b[39m\u001b[38;5;124mmodel_type\u001b[39m\u001b[38;5;124m\"\u001b[39m \u001b[38;5;129;01min\u001b[39;00m config_dict \u001b[38;5;129;01mand\u001b[39;00m config_dict[\u001b[38;5;124m\"\u001b[39m\u001b[38;5;124mmodel_type\u001b[39m\u001b[38;5;124m\"\u001b[39m] \u001b[38;5;129;01min\u001b[39;00m CONFIG_MAPPING\n",
      "File \u001b[1;32m~\\AppData\\Roaming\\Python\\Python311\\site-packages\\transformers\\configuration_utils.py:595\u001b[0m, in \u001b[0;36mPretrainedConfig.get_config_dict\u001b[1;34m(cls, pretrained_model_name_or_path, **kwargs)\u001b[0m\n\u001b[0;32m    593\u001b[0m original_kwargs \u001b[38;5;241m=\u001b[39m copy\u001b[38;5;241m.\u001b[39mdeepcopy(kwargs)\n\u001b[0;32m    594\u001b[0m \u001b[38;5;66;03m# Get config dict associated with the base config file\u001b[39;00m\n\u001b[1;32m--> 595\u001b[0m config_dict, kwargs \u001b[38;5;241m=\u001b[39m \u001b[38;5;28mcls\u001b[39m\u001b[38;5;241m.\u001b[39m_get_config_dict(pretrained_model_name_or_path, \u001b[38;5;241m*\u001b[39m\u001b[38;5;241m*\u001b[39mkwargs)\n\u001b[0;32m    596\u001b[0m \u001b[38;5;28;01mif\u001b[39;00m config_dict \u001b[38;5;129;01mis\u001b[39;00m \u001b[38;5;28;01mNone\u001b[39;00m:\n\u001b[0;32m    597\u001b[0m     \u001b[38;5;28;01mreturn\u001b[39;00m {}, kwargs\n",
      "File \u001b[1;32m~\\AppData\\Roaming\\Python\\Python311\\site-packages\\transformers\\configuration_utils.py:654\u001b[0m, in \u001b[0;36mPretrainedConfig._get_config_dict\u001b[1;34m(cls, pretrained_model_name_or_path, **kwargs)\u001b[0m\n\u001b[0;32m    650\u001b[0m configuration_file \u001b[38;5;241m=\u001b[39m kwargs\u001b[38;5;241m.\u001b[39mpop(\u001b[38;5;124m\"\u001b[39m\u001b[38;5;124m_configuration_file\u001b[39m\u001b[38;5;124m\"\u001b[39m, CONFIG_NAME) \u001b[38;5;28;01mif\u001b[39;00m gguf_file \u001b[38;5;129;01mis\u001b[39;00m \u001b[38;5;28;01mNone\u001b[39;00m \u001b[38;5;28;01melse\u001b[39;00m gguf_file\n\u001b[0;32m    652\u001b[0m \u001b[38;5;28;01mtry\u001b[39;00m:\n\u001b[0;32m    653\u001b[0m     \u001b[38;5;66;03m# Load from local folder or from cache or download from model Hub and cache\u001b[39;00m\n\u001b[1;32m--> 654\u001b[0m     resolved_config_file \u001b[38;5;241m=\u001b[39m cached_file(\n\u001b[0;32m    655\u001b[0m         pretrained_model_name_or_path,\n\u001b[0;32m    656\u001b[0m         configuration_file,\n\u001b[0;32m    657\u001b[0m         cache_dir\u001b[38;5;241m=\u001b[39mcache_dir,\n\u001b[0;32m    658\u001b[0m         force_download\u001b[38;5;241m=\u001b[39mforce_download,\n\u001b[0;32m    659\u001b[0m         proxies\u001b[38;5;241m=\u001b[39mproxies,\n\u001b[0;32m    660\u001b[0m         resume_download\u001b[38;5;241m=\u001b[39mresume_download,\n\u001b[0;32m    661\u001b[0m         local_files_only\u001b[38;5;241m=\u001b[39mlocal_files_only,\n\u001b[0;32m    662\u001b[0m         token\u001b[38;5;241m=\u001b[39mtoken,\n\u001b[0;32m    663\u001b[0m         user_agent\u001b[38;5;241m=\u001b[39muser_agent,\n\u001b[0;32m    664\u001b[0m         revision\u001b[38;5;241m=\u001b[39mrevision,\n\u001b[0;32m    665\u001b[0m         subfolder\u001b[38;5;241m=\u001b[39msubfolder,\n\u001b[0;32m    666\u001b[0m         _commit_hash\u001b[38;5;241m=\u001b[39mcommit_hash,\n\u001b[0;32m    667\u001b[0m     )\n\u001b[0;32m    668\u001b[0m     \u001b[38;5;28;01mif\u001b[39;00m resolved_config_file \u001b[38;5;129;01mis\u001b[39;00m \u001b[38;5;28;01mNone\u001b[39;00m:\n\u001b[0;32m    669\u001b[0m         \u001b[38;5;28;01mreturn\u001b[39;00m \u001b[38;5;28;01mNone\u001b[39;00m, kwargs\n",
      "File \u001b[1;32m~\\AppData\\Roaming\\Python\\Python311\\site-packages\\transformers\\utils\\hub.py:312\u001b[0m, in \u001b[0;36mcached_file\u001b[1;34m(path_or_repo_id, filename, **kwargs)\u001b[0m\n\u001b[0;32m    254\u001b[0m \u001b[38;5;28;01mdef\u001b[39;00m \u001b[38;5;21mcached_file\u001b[39m(\n\u001b[0;32m    255\u001b[0m     path_or_repo_id: Union[\u001b[38;5;28mstr\u001b[39m, os\u001b[38;5;241m.\u001b[39mPathLike],\n\u001b[0;32m    256\u001b[0m     filename: \u001b[38;5;28mstr\u001b[39m,\n\u001b[0;32m    257\u001b[0m     \u001b[38;5;241m*\u001b[39m\u001b[38;5;241m*\u001b[39mkwargs,\n\u001b[0;32m    258\u001b[0m ) \u001b[38;5;241m-\u001b[39m\u001b[38;5;241m>\u001b[39m Optional[\u001b[38;5;28mstr\u001b[39m]:\n\u001b[0;32m    259\u001b[0m \u001b[38;5;250m    \u001b[39m\u001b[38;5;124;03m\"\"\"\u001b[39;00m\n\u001b[0;32m    260\u001b[0m \u001b[38;5;124;03m    Tries to locate a file in a local folder and repo, downloads and cache it if necessary.\u001b[39;00m\n\u001b[0;32m    261\u001b[0m \n\u001b[1;32m   (...)\u001b[0m\n\u001b[0;32m    310\u001b[0m \u001b[38;5;124;03m    ```\u001b[39;00m\n\u001b[0;32m    311\u001b[0m \u001b[38;5;124;03m    \"\"\"\u001b[39;00m\n\u001b[1;32m--> 312\u001b[0m     file \u001b[38;5;241m=\u001b[39m cached_files(path_or_repo_id\u001b[38;5;241m=\u001b[39mpath_or_repo_id, filenames\u001b[38;5;241m=\u001b[39m[filename], \u001b[38;5;241m*\u001b[39m\u001b[38;5;241m*\u001b[39mkwargs)\n\u001b[0;32m    313\u001b[0m     file \u001b[38;5;241m=\u001b[39m file[\u001b[38;5;241m0\u001b[39m] \u001b[38;5;28;01mif\u001b[39;00m file \u001b[38;5;129;01mis\u001b[39;00m \u001b[38;5;129;01mnot\u001b[39;00m \u001b[38;5;28;01mNone\u001b[39;00m \u001b[38;5;28;01melse\u001b[39;00m file\n\u001b[0;32m    314\u001b[0m     \u001b[38;5;28;01mreturn\u001b[39;00m file\n",
      "File \u001b[1;32m~\\AppData\\Roaming\\Python\\Python311\\site-packages\\transformers\\utils\\hub.py:533\u001b[0m, in \u001b[0;36mcached_files\u001b[1;34m(path_or_repo_id, filenames, cache_dir, force_download, resume_download, proxies, token, revision, local_files_only, subfolder, repo_type, user_agent, _raise_exceptions_for_gated_repo, _raise_exceptions_for_missing_entries, _raise_exceptions_for_connection_errors, _commit_hash, **deprecated_kwargs)\u001b[0m\n\u001b[0;32m    531\u001b[0m     \u001b[38;5;28;01mif\u001b[39;00m \u001b[38;5;129;01mnot\u001b[39;00m _raise_exceptions_for_gated_repo:\n\u001b[0;32m    532\u001b[0m         \u001b[38;5;28;01mreturn\u001b[39;00m \u001b[38;5;28;01mNone\u001b[39;00m\n\u001b[1;32m--> 533\u001b[0m     \u001b[38;5;28;01mraise\u001b[39;00m \u001b[38;5;167;01mOSError\u001b[39;00m(\n\u001b[0;32m    534\u001b[0m         \u001b[38;5;124m\"\u001b[39m\u001b[38;5;124mYou are trying to access a gated repo.\u001b[39m\u001b[38;5;130;01m\\n\u001b[39;00m\u001b[38;5;124mMake sure to have access to it at \u001b[39m\u001b[38;5;124m\"\u001b[39m\n\u001b[0;32m    535\u001b[0m         \u001b[38;5;124mf\u001b[39m\u001b[38;5;124m\"\u001b[39m\u001b[38;5;124mhttps://huggingface.co/\u001b[39m\u001b[38;5;132;01m{\u001b[39;00mpath_or_repo_id\u001b[38;5;132;01m}\u001b[39;00m\u001b[38;5;124m.\u001b[39m\u001b[38;5;130;01m\\n\u001b[39;00m\u001b[38;5;132;01m{\u001b[39;00m\u001b[38;5;28mstr\u001b[39m(e)\u001b[38;5;132;01m}\u001b[39;00m\u001b[38;5;124m\"\u001b[39m\n\u001b[0;32m    536\u001b[0m     ) \u001b[38;5;28;01mfrom\u001b[39;00m \u001b[38;5;21;01me\u001b[39;00m\n\u001b[0;32m    537\u001b[0m \u001b[38;5;28;01melif\u001b[39;00m \u001b[38;5;28misinstance\u001b[39m(e, LocalEntryNotFoundError):\n\u001b[0;32m    538\u001b[0m     \u001b[38;5;28;01mif\u001b[39;00m \u001b[38;5;129;01mnot\u001b[39;00m _raise_exceptions_for_connection_errors:\n",
      "\u001b[1;31mOSError\u001b[0m: You are trying to access a gated repo.\nMake sure to have access to it at https://huggingface.co/mistralai/Mistral-7B-Instruct-v0.2.\n401 Client Error. (Request ID: Root=1-685d8d73-74c078f516f0e9c05a3faaff;78d73ea4-5dbd-444f-8554-181c91d6012f)\n\nCannot access gated repo for url https://huggingface.co/mistralai/Mistral-7B-Instruct-v0.2/resolve/main/config.json.\nAccess to model mistralai/Mistral-7B-Instruct-v0.2 is restricted. You must have access to it and be authenticated to access it. Please log in."
     ]
    }
   ],
   "source": [
    "from transformers import AutoModelForCausalLM, AutoTokenizer, pipeline\n",
    "\n",
    "# ✅ Load LLM (small open-source model for testing)\n",
    "model_name = \"mistralai/Mistral-7B-Instruct-v0.2\"\n",
    "\n",
    "tokenizer = AutoTokenizer.from_pretrained(model_name)\n",
    "model = AutoModelForCausalLM.from_pretrained(model_name, device_map=\"auto\")\n",
    "\n",
    "generator = pipeline(\"text-generation\", model=model, tokenizer=tokenizer)\n"
   ]
  },
  {
   "cell_type": "code",
   "execution_count": 18,
   "id": "c1ecc10d",
   "metadata": {
    "scrolled": false
   },
   "outputs": [
    {
     "data": {
      "application/vnd.jupyter.widget-view+json": {
       "model_id": "0b04b9a111424cd1b2160b8728a3a173",
       "version_major": 2,
       "version_minor": 0
      },
      "text/plain": [
       "tokenizer_config.json: 0.00B [00:00, ?B/s]"
      ]
     },
     "metadata": {},
     "output_type": "display_data"
    },
    {
     "name": "stderr",
     "output_type": "stream",
     "text": [
      "C:\\Users\\NAUSHAD\\AppData\\Roaming\\Python\\Python311\\site-packages\\huggingface_hub\\file_download.py:143: UserWarning: `huggingface_hub` cache-system uses symlinks by default to efficiently store duplicated files but your machine does not support them in C:\\Users\\NAUSHAD\\.cache\\huggingface\\hub\\models--google--flan-t5-large. Caching files will still work but in a degraded version that might require more space on your disk. This warning can be disabled by setting the `HF_HUB_DISABLE_SYMLINKS_WARNING` environment variable. For more details, see https://huggingface.co/docs/huggingface_hub/how-to-cache#limitations.\n",
      "To support symlinks on Windows, you either need to activate Developer Mode or to run Python as an administrator. In order to activate developer mode, see this article: https://docs.microsoft.com/en-us/windows/apps/get-started/enable-your-device-for-development\n",
      "  warnings.warn(message)\n",
      "Xet Storage is enabled for this repo, but the 'hf_xet' package is not installed. Falling back to regular HTTP download. For better performance, install the package with: `pip install huggingface_hub[hf_xet]` or `pip install hf_xet`\n"
     ]
    },
    {
     "data": {
      "application/vnd.jupyter.widget-view+json": {
       "model_id": "2288bbfae7904fd6aa7af1be45cdd175",
       "version_major": 2,
       "version_minor": 0
      },
      "text/plain": [
       "spiece.model:   0%|          | 0.00/792k [00:00<?, ?B/s]"
      ]
     },
     "metadata": {},
     "output_type": "display_data"
    },
    {
     "data": {
      "application/vnd.jupyter.widget-view+json": {
       "model_id": "8bb74c9c03224a7684dc63ea309a586a",
       "version_major": 2,
       "version_minor": 0
      },
      "text/plain": [
       "tokenizer.json: 0.00B [00:00, ?B/s]"
      ]
     },
     "metadata": {},
     "output_type": "display_data"
    },
    {
     "data": {
      "application/vnd.jupyter.widget-view+json": {
       "model_id": "cb872717a0ce446a87a9075aeca6eae3",
       "version_major": 2,
       "version_minor": 0
      },
      "text/plain": [
       "special_tokens_map.json: 0.00B [00:00, ?B/s]"
      ]
     },
     "metadata": {},
     "output_type": "display_data"
    },
    {
     "data": {
      "application/vnd.jupyter.widget-view+json": {
       "model_id": "0dc27e7ee6f54310a2155ec7084361b7",
       "version_major": 2,
       "version_minor": 0
      },
      "text/plain": [
       "config.json:   0%|          | 0.00/662 [00:00<?, ?B/s]"
      ]
     },
     "metadata": {},
     "output_type": "display_data"
    },
    {
     "name": "stderr",
     "output_type": "stream",
     "text": [
      "Xet Storage is enabled for this repo, but the 'hf_xet' package is not installed. Falling back to regular HTTP download. For better performance, install the package with: `pip install huggingface_hub[hf_xet]` or `pip install hf_xet`\n"
     ]
    },
    {
     "data": {
      "application/vnd.jupyter.widget-view+json": {
       "model_id": "f88dd37e50f74e6cbd341dc129b50804",
       "version_major": 2,
       "version_minor": 0
      },
      "text/plain": [
       "model.safetensors:   0%|          | 0.00/3.13G [00:00<?, ?B/s]"
      ]
     },
     "metadata": {},
     "output_type": "display_data"
    },
    {
     "data": {
      "application/vnd.jupyter.widget-view+json": {
       "model_id": "8d5f0dc68a3b4195b65b6c1664a4a77f",
       "version_major": 2,
       "version_minor": 0
      },
      "text/plain": [
       "generation_config.json:   0%|          | 0.00/147 [00:00<?, ?B/s]"
      ]
     },
     "metadata": {},
     "output_type": "display_data"
    },
    {
     "name": "stderr",
     "output_type": "stream",
     "text": [
      "Device set to use cpu\n"
     ]
    }
   ],
   "source": [
    "from transformers import AutoTokenizer, AutoModelForSeq2SeqLM, pipeline\n",
    "\n",
    "model_name = \"google/flan-t5-large\"\n",
    "\n",
    "tokenizer = AutoTokenizer.from_pretrained(model_name)\n",
    "model = AutoModelForSeq2SeqLM.from_pretrained(model_name)\n",
    "\n",
    "generator = pipeline(\"text2text-generation\", model=model, tokenizer=tokenizer)\n"
   ]
  },
  {
   "cell_type": "code",
   "execution_count": 19,
   "id": "13e281d9",
   "metadata": {},
   "outputs": [],
   "source": [
    "def retrieve_relevant_chunks(query, k=3):\n",
    "    query_embedding = embedder.encode([query])\n",
    "    D, I = index.search(query_embedding, k)\n",
    "    retrieved = [chunks[i] for i in I[0]]\n",
    "    return retrieved\n"
   ]
  },
  {
   "cell_type": "code",
   "execution_count": 21,
   "id": "88a3a833",
   "metadata": {},
   "outputs": [],
   "source": [
    "def build_prompt(retrieved_chunks, user_query):\n",
    "    context = \"\\n\\n\".join(retrieved_chunks)\n",
    "    prompt = f\"\"\"\n",
    "Answer the question based on the context below.\n",
    "\n",
    "Context:\n",
    "{context}\n",
    "\n",
    "Question: {user_query}\n",
    "\n",
    "Answer:\"\"\"\n",
    "    return prompt\n"
   ]
  },
  {
   "cell_type": "code",
   "execution_count": 22,
   "id": "d7387add",
   "metadata": {},
   "outputs": [],
   "source": [
    "def generate_answer(prompt):\n",
    "    response = generator(\n",
    "        prompt,\n",
    "        max_length=512,\n",
    "        do_sample=False,\n",
    "        temperature=0.2,\n",
    "    )\n",
    "    return response[0]['generated_text']\n"
   ]
  },
  {
   "cell_type": "code",
   "execution_count": 23,
   "id": "14853414",
   "metadata": {},
   "outputs": [],
   "source": [
    "def rag_pipeline(user_query, top_k=3):\n",
    "    # 1. Retrieve\n",
    "    retrieved_chunks = retrieve_relevant_chunks(user_query, k=top_k)\n",
    "    \n",
    "    # 2. Build Prompt\n",
    "    prompt = build_prompt(retrieved_chunks, user_query)\n",
    "    \n",
    "    # 3. Generate Response\n",
    "    answer = generate_answer(prompt)\n",
    "    \n",
    "    return answer, retrieved_chunks\n"
   ]
  },
  {
   "cell_type": "code",
   "execution_count": 24,
   "id": "7b1dac93",
   "metadata": {},
   "outputs": [
    {
     "name": "stderr",
     "output_type": "stream",
     "text": [
      "Token indices sequence length is longer than the specified maximum sequence length for this model (1236 > 512). Running this sequence through the model will result in indexing errors\n",
      "The following generation flags are not valid and may be ignored: ['temperature']. Set `TRANSFORMERS_VERBOSITY=info` for more details.\n",
      "Both `max_new_tokens` (=256) and `max_length`(=512) seem to have been set. `max_new_tokens` will take precedence. Please refer to the documentation for more information. (https://huggingface.co/docs/transformers/main/en/main_classes/text_generation)\n"
     ]
    },
    {
     "name": "stdout",
     "output_type": "stream",
     "text": [
      "✅ Answer:\n",
      "\n",
      "Sellers must meet eBay's minimum performance standards. Failure to meet these standards may result in eBay charging sellers additional fees, and/or limiting, restricting, suspending, or downgrading your seller account\n",
      "\n",
      "🔍 Source Chunks Used:\n",
      "\n",
      "Chunk 1:\n",
      "As such, when you use eBay Secure Checkout to purchase or sell a vehicle listed on eBay sites, you are contracting with Caramel Dealer Services, LLC d/b/a CDS Auto Sales (“Caramel”). Caramel is an eBay affiliate that holds state licenses as a used vehicle dealer in Arizona, California, Florida, and Texas. Caramel’s Terms of Use, Privacy Policy, and additional policies and terms posted on and in its sites, applications, tools, and services set forth the terms under which you may access and use Caramel Services. For additional information, you should review the Frequently Asked Questions page for eBay Secure Checkout. eBay is not a vehicle broker, vehicle dealer, or an agent acting on behalf of vehicle brokers, dealers, buyers or sellers. eBay does not maintain an inventory of vehicles for sale and does not sell, exchange, buy, offer for sale, negotiate or attempt to negotiate sales or exchanges of an interest in any vehicle listed on eBay sites. eBay has never: (1) held title for any vehicle listed on eBay sites; (2) inspected any vehicle listed on eBay sites; (3) set or negotiated prices for any vehicle listed on eBay sites; (4) had any vehicle listed on eBay sites in its possession; (5) shipped, distributed, or delivered any vehicle listed on eBay sites; or (6) sold a vehicle listed on eBay sites by consignment.\n",
      "--------------------------------------------------\n",
      "Chunk 2:\n",
      "IN ADDITION TO, AND WITHOUT LIMITING THE GENERALITY OF THE DISCLAIMERS OF WARRANTIES DETAILED IN SECTION 16, YOU AGREE THAT: (A) EBAY DOES NOT WARRANT AGAINST DEFECTS IN ANY VEHICLE, AND DOES NOT MAKE ANY WARRANTY OF ANY KIND, EITHER EXPRESS OR IMPLIED, INCLUDING REPRESENTATIONS, PROMISES, OR STATEMENTS AS TO THE VEHICLE’S VALUE, CONDITION, SAFETY, CAPABILITY, FITNESS, OR MERCHANTABILITY, (B) NO INFORMATION OBTAINED ON EBAY SITES WILL CREATE ANY WARRANTY, EXPRESS OR IMPLIED, (C) YOU HAVE NOT AND WILL NOT RELY UPON ANY REPRESENTATION AS TO THE VEHICLE’S VALUE, CONDITION, SAFETY, CAPABILITY, FITNESS, OR MERCHANTABILITY, AS COMING FROM EBAY, AND (D) EBAY MAKES NO WARRANTY CONCERNING ANY VEHICLE’S TITLE. EBAY DISCLAIMS ALL VEHICLE-RELATED REPRESENTATIONS, GUARANTEES, AND WARRANTIES TO THE FULLEST EXTENT PERMISSIBLE BY LAW. You agree that any reliance on vehicle information on eBay sites is at your own risk. Any discrepancies or mistakes made regarding vehicle availability, quality, safety, condition, pricing, financing, insurance and the like are not the fault or responsibility of eBay. Neither the accuracy of vehicle information provided on eBay.com, nor the availability, quality, or safety of vehicles is guaranteed by eBay. Furthermore, neither the financing of or insurance relevant to vehicles is controlled or guaranteed by eBay. The purchase of a vehicle encompasses multiple disciplines and eBay is not an expert on matters such as vehicle market valuation, laws relating to vehicles, taxes relating to vehicles, vehicle financing, vehicle registration, vehicle insurance, vehicle condition safety, and inspections, or vehicle mechanical fitness and engineering,  eBay hereby cautions you, and you understand and acknowledge, that you should seek professional expert assistance and advice in these and other areas of professional expertise as appropriate. 5.\n",
      "--------------------------------------------------\n",
      "Chunk 3:\n",
      "Sellers must meet eBay's minimum performance standards. Failure to meet these standards may result in eBay charging sellers additional fees, and/or limiting, restricting, suspending, or downgrading your seller account. If we believe you are violating this User Agreement or any of our policies, or abusing eBay and/or our Services in any way, we may, in our sole discretion and without limiting other remedies, limit, suspend, or terminate your user account(s) and access to our Services, delay or remove hosted content, remove any special status associated with your account(s), remove, not display, and/or demote listings, reduce or eliminate any discounts, and take technical and/or legal steps to prevent you from using our Services. We may offer a process allowing users to report claimed violations for us to consider and handle through one or more of these options, all in our sole discretion. If we believe you are violating our policies prohibiting Offers to buy or sell outside of eBay, you may be subject to a range of actions, including limits on your buying and selling privileges, restrictions on listings and account features, suspension of your account, application of fees, and recovery of expenses for policy monitoring and enforcement. Also, as provided below in the Fees and Taxes section, if we believe you are violating our policy on buying or selling outside of eBay, you may be charged final value fees. We may cancel unconfirmed accounts or accounts that have been inactive for a substantial period of time. Additionally, we reserve the right to refuse, modify, or terminate all or part of our Services to anyone for any reason at our discretion. 4. Vehicle Purchases & Sales\n",
      "As it relates to vehicle listings, eBay Secure Checkout is powered by and made possible by the services of Caramel Dealer Services, LLC.\n",
      "--------------------------------------------------\n"
     ]
    }
   ],
   "source": [
    "question = \"What are the rules for selling motor vehicles on eBay?\"\n",
    "\n",
    "answer, source_chunks = rag_pipeline(question, top_k=3)\n",
    "\n",
    "print(\"✅ Answer:\\n\")\n",
    "print(answer)\n",
    "\n",
    "print(\"\\n🔍 Source Chunks Used:\\n\")\n",
    "for idx, chunk in enumerate(source_chunks):\n",
    "    print(f\"Chunk {idx + 1}:\\n{chunk}\\n{'-' * 50}\")\n"
   ]
  },
  {
   "cell_type": "code",
   "execution_count": 26,
   "id": "4ce6a884",
   "metadata": {},
   "outputs": [
    {
     "name": "stdout",
     "output_type": "stream",
     "text": [
      "Defaulting to user installation because normal site-packages is not writeable\n",
      "Collecting streamlit\n",
      "  Obtaining dependency information for streamlit from https://files.pythonhosted.org/packages/84/3b/35400175788cdd6a43c90dce1e7f567eb6843a3ba0612508c0f19ee31f5f/streamlit-1.46.1-py3-none-any.whl.metadata\n",
      "  Downloading streamlit-1.46.1-py3-none-any.whl.metadata (9.0 kB)\n",
      "Collecting altair<6,>=4.0 (from streamlit)\n",
      "  Obtaining dependency information for altair<6,>=4.0 from https://files.pythonhosted.org/packages/aa/f3/0b6ced594e51cc95d8c1fc1640d3623770d01e4969d29c0bd09945fafefa/altair-5.5.0-py3-none-any.whl.metadata\n",
      "  Downloading altair-5.5.0-py3-none-any.whl.metadata (11 kB)\n",
      "Collecting blinker<2,>=1.5.0 (from streamlit)\n",
      "  Obtaining dependency information for blinker<2,>=1.5.0 from https://files.pythonhosted.org/packages/10/cb/f2ad4230dc2eb1a74edf38f1a38b9b52277f75bef262d8908e60d957e13c/blinker-1.9.0-py3-none-any.whl.metadata\n",
      "  Downloading blinker-1.9.0-py3-none-any.whl.metadata (1.6 kB)\n",
      "Collecting cachetools<7,>=4.0 (from streamlit)\n",
      "  Obtaining dependency information for cachetools<7,>=4.0 from https://files.pythonhosted.org/packages/00/f0/2ef431fe4141f5e334759d73e81120492b23b2824336883a91ac04ba710b/cachetools-6.1.0-py3-none-any.whl.metadata\n",
      "  Downloading cachetools-6.1.0-py3-none-any.whl.metadata (5.4 kB)\n",
      "Requirement already satisfied: click<9,>=7.0 in c:\\programdata\\anaconda3\\lib\\site-packages (from streamlit) (8.0.4)\n",
      "Requirement already satisfied: numpy<3,>=1.23 in c:\\users\\naushad\\appdata\\roaming\\python\\python311\\site-packages (from streamlit) (1.26.4)\n",
      "Requirement already satisfied: packaging<26,>=20 in c:\\programdata\\anaconda3\\lib\\site-packages (from streamlit) (23.0)\n",
      "Requirement already satisfied: pandas<3,>=1.4.0 in c:\\programdata\\anaconda3\\lib\\site-packages (from streamlit) (1.5.3)\n",
      "Requirement already satisfied: pillow<12,>=7.1.0 in c:\\programdata\\anaconda3\\lib\\site-packages (from streamlit) (9.4.0)\n",
      "Collecting protobuf<7,>=3.20 (from streamlit)\n",
      "  Obtaining dependency information for protobuf<7,>=3.20 from https://files.pythonhosted.org/packages/44/3a/b15c4347dd4bf3a1b0ee882f384623e2063bb5cf9fa9d57990a4f7df2fb6/protobuf-6.31.1-cp310-abi3-win_amd64.whl.metadata\n",
      "  Downloading protobuf-6.31.1-cp310-abi3-win_amd64.whl.metadata (593 bytes)\n",
      "Requirement already satisfied: pyarrow>=7.0 in c:\\programdata\\anaconda3\\lib\\site-packages (from streamlit) (11.0.0)\n",
      "Requirement already satisfied: requests<3,>=2.27 in c:\\programdata\\anaconda3\\lib\\site-packages (from streamlit) (2.31.0)\n",
      "Requirement already satisfied: tenacity<10,>=8.1.0 in c:\\programdata\\anaconda3\\lib\\site-packages (from streamlit) (8.2.2)\n",
      "Requirement already satisfied: toml<2,>=0.10.1 in c:\\programdata\\anaconda3\\lib\\site-packages (from streamlit) (0.10.2)\n",
      "Requirement already satisfied: typing-extensions<5,>=4.4.0 in c:\\users\\naushad\\appdata\\roaming\\python\\python311\\site-packages (from streamlit) (4.14.0)\n",
      "Requirement already satisfied: watchdog<7,>=2.1.5 in c:\\programdata\\anaconda3\\lib\\site-packages (from streamlit) (2.1.6)\n",
      "Collecting gitpython!=3.1.19,<4,>=3.0.7 (from streamlit)\n",
      "  Obtaining dependency information for gitpython!=3.1.19,<4,>=3.0.7 from https://files.pythonhosted.org/packages/1d/9a/4114a9057db2f1462d5c8f8390ab7383925fe1ac012eaa42402ad65c2963/GitPython-3.1.44-py3-none-any.whl.metadata\n",
      "  Downloading GitPython-3.1.44-py3-none-any.whl.metadata (13 kB)\n",
      "Collecting pydeck<1,>=0.8.0b4 (from streamlit)\n",
      "  Obtaining dependency information for pydeck<1,>=0.8.0b4 from https://files.pythonhosted.org/packages/ab/4c/b888e6cf58bd9db9c93f40d1c6be8283ff49d88919231afe93a6bcf61626/pydeck-0.9.1-py2.py3-none-any.whl.metadata\n",
      "  Downloading pydeck-0.9.1-py2.py3-none-any.whl.metadata (4.1 kB)\n",
      "Requirement already satisfied: tornado!=6.5.0,<7,>=6.0.3 in c:\\programdata\\anaconda3\\lib\\site-packages (from streamlit) (6.3.2)\n",
      "Requirement already satisfied: jinja2 in c:\\programdata\\anaconda3\\lib\\site-packages (from altair<6,>=4.0->streamlit) (3.1.2)\n",
      "Requirement already satisfied: jsonschema>=3.0 in c:\\programdata\\anaconda3\\lib\\site-packages (from altair<6,>=4.0->streamlit) (4.17.3)\n",
      "Collecting narwhals>=1.14.2 (from altair<6,>=4.0->streamlit)\n",
      "  Obtaining dependency information for narwhals>=1.14.2 from https://files.pythonhosted.org/packages/ff/fb/12f4a971467aac3cb7cbccbbfca5d0f05e23722068112c1ac4a393613ebe/narwhals-1.44.0-py3-none-any.whl.metadata\n",
      "  Downloading narwhals-1.44.0-py3-none-any.whl.metadata (11 kB)\n",
      "Requirement already satisfied: colorama in c:\\programdata\\anaconda3\\lib\\site-packages (from click<9,>=7.0->streamlit) (0.4.6)\n",
      "Collecting gitdb<5,>=4.0.1 (from gitpython!=3.1.19,<4,>=3.0.7->streamlit)\n",
      "  Obtaining dependency information for gitdb<5,>=4.0.1 from https://files.pythonhosted.org/packages/a0/61/5c78b91c3143ed5c14207f463aecfc8f9dbb5092fb2869baf37c273b2705/gitdb-4.0.12-py3-none-any.whl.metadata\n",
      "  Downloading gitdb-4.0.12-py3-none-any.whl.metadata (1.2 kB)\n",
      "Requirement already satisfied: python-dateutil>=2.8.1 in c:\\programdata\\anaconda3\\lib\\site-packages (from pandas<3,>=1.4.0->streamlit) (2.8.2)\n",
      "Requirement already satisfied: pytz>=2020.1 in c:\\programdata\\anaconda3\\lib\\site-packages (from pandas<3,>=1.4.0->streamlit) (2022.7)\n",
      "Requirement already satisfied: charset-normalizer<4,>=2 in c:\\programdata\\anaconda3\\lib\\site-packages (from requests<3,>=2.27->streamlit) (2.0.4)\n",
      "Requirement already satisfied: idna<4,>=2.5 in c:\\programdata\\anaconda3\\lib\\site-packages (from requests<3,>=2.27->streamlit) (3.4)\n",
      "Requirement already satisfied: urllib3<3,>=1.21.1 in c:\\programdata\\anaconda3\\lib\\site-packages (from requests<3,>=2.27->streamlit) (1.26.16)\n",
      "Requirement already satisfied: certifi>=2017.4.17 in c:\\programdata\\anaconda3\\lib\\site-packages (from requests<3,>=2.27->streamlit) (2023.7.22)\n",
      "Collecting smmap<6,>=3.0.1 (from gitdb<5,>=4.0.1->gitpython!=3.1.19,<4,>=3.0.7->streamlit)\n",
      "  Obtaining dependency information for smmap<6,>=3.0.1 from https://files.pythonhosted.org/packages/04/be/d09147ad1ec7934636ad912901c5fd7667e1c858e19d355237db0d0cd5e4/smmap-5.0.2-py3-none-any.whl.metadata\n",
      "  Downloading smmap-5.0.2-py3-none-any.whl.metadata (4.3 kB)\n",
      "Requirement already satisfied: MarkupSafe>=2.0 in c:\\programdata\\anaconda3\\lib\\site-packages (from jinja2->altair<6,>=4.0->streamlit) (2.1.1)\n",
      "Requirement already satisfied: attrs>=17.4.0 in c:\\programdata\\anaconda3\\lib\\site-packages (from jsonschema>=3.0->altair<6,>=4.0->streamlit) (22.1.0)\n",
      "Requirement already satisfied: pyrsistent!=0.17.0,!=0.17.1,!=0.17.2,>=0.14.0 in c:\\programdata\\anaconda3\\lib\\site-packages (from jsonschema>=3.0->altair<6,>=4.0->streamlit) (0.18.0)\n",
      "Requirement already satisfied: six>=1.5 in c:\\programdata\\anaconda3\\lib\\site-packages (from python-dateutil>=2.8.1->pandas<3,>=1.4.0->streamlit) (1.16.0)\n",
      "Downloading streamlit-1.46.1-py3-none-any.whl (10.1 MB)\n",
      "   ---------------------------------------- 0.0/10.1 MB ? eta -:--:--\n",
      "   ---------------------------------------- 0.1/10.1 MB 1.7 MB/s eta 0:00:07\n",
      "   - -------------------------------------- 0.3/10.1 MB 2.8 MB/s eta 0:00:04\n",
      "   -- ------------------------------------- 0.6/10.1 MB 3.9 MB/s eta 0:00:03\n",
      "   --- ------------------------------------ 0.9/10.1 MB 4.9 MB/s eta 0:00:02\n",
      "   ---- ----------------------------------- 1.0/10.1 MB 4.7 MB/s eta 0:00:02\n",
      "   ----- ---------------------------------- 1.4/10.1 MB 4.9 MB/s eta 0:00:02\n",
      "   ------ --------------------------------- 1.6/10.1 MB 4.8 MB/s eta 0:00:02\n",
      "   -------- ------------------------------- 2.0/10.1 MB 5.4 MB/s eta 0:00:02\n",
      "   -------- ------------------------------- 2.2/10.1 MB 5.1 MB/s eta 0:00:02\n",
      "   ---------- ----------------------------- 2.7/10.1 MB 5.6 MB/s eta 0:00:02\n",
      "   ----------- ---------------------------- 2.8/10.1 MB 5.5 MB/s eta 0:00:02\n",
      "   ------------ --------------------------- 3.1/10.1 MB 5.3 MB/s eta 0:00:02\n",
      "   ------------- -------------------------- 3.4/10.1 MB 5.4 MB/s eta 0:00:02\n",
      "   ------------- -------------------------- 3.5/10.1 MB 5.6 MB/s eta 0:00:02\n",
      "   --------------- ------------------------ 3.9/10.1 MB 5.4 MB/s eta 0:00:02\n",
      "   ---------------- ----------------------- 4.2/10.1 MB 5.4 MB/s eta 0:00:02\n",
      "   ------------------ --------------------- 4.5/10.1 MB 5.6 MB/s eta 0:00:01\n",
      "   ------------------- -------------------- 4.9/10.1 MB 5.7 MB/s eta 0:00:01\n",
      "   --------------------- ------------------ 5.3/10.1 MB 5.8 MB/s eta 0:00:01\n",
      "   ---------------------- ----------------- 5.7/10.1 MB 6.0 MB/s eta 0:00:01\n",
      "   ----------------------- ---------------- 5.9/10.1 MB 6.0 MB/s eta 0:00:01\n",
      "   ------------------------- -------------- 6.4/10.1 MB 6.1 MB/s eta 0:00:01\n",
      "   --------------------------- ------------ 6.9/10.1 MB 6.3 MB/s eta 0:00:01\n",
      "   ---------------------------- ----------- 7.3/10.1 MB 6.4 MB/s eta 0:00:01\n",
      "   ------------------------------ --------- 7.7/10.1 MB 6.5 MB/s eta 0:00:01\n",
      "   -------------------------------- ------- 8.2/10.1 MB 6.7 MB/s eta 0:00:01\n",
      "   ---------------------------------- ----- 8.7/10.1 MB 6.8 MB/s eta 0:00:01\n",
      "   ------------------------------------ --- 9.1/10.1 MB 6.8 MB/s eta 0:00:01\n",
      "   -------------------------------------- - 9.6/10.1 MB 7.0 MB/s eta 0:00:01\n",
      "   ---------------------------------------  10.0/10.1 MB 6.9 MB/s eta 0:00:01\n",
      "   ---------------------------------------- 10.1/10.1 MB 6.8 MB/s eta 0:00:00\n",
      "Downloading altair-5.5.0-py3-none-any.whl (731 kB)\n",
      "   ---------------------------------------- 0.0/731.2 kB ? eta -:--:--\n",
      "   ------------------------- ------------- 481.3/731.2 kB 10.0 MB/s eta 0:00:01\n",
      "   ---------------------------------------- 731.2/731.2 kB 7.7 MB/s eta 0:00:00\n",
      "Downloading blinker-1.9.0-py3-none-any.whl (8.5 kB)\n",
      "Downloading cachetools-6.1.0-py3-none-any.whl (11 kB)\n",
      "Downloading GitPython-3.1.44-py3-none-any.whl (207 kB)\n",
      "   ---------------------------------------- 0.0/207.6 kB ? eta -:--:--\n",
      "   --------------------------------------- 207.6/207.6 kB 13.2 MB/s eta 0:00:00\n",
      "Downloading protobuf-6.31.1-cp310-abi3-win_amd64.whl (435 kB)\n",
      "   ---------------------------------------- 0.0/435.3 kB ? eta -:--:--\n",
      "   ---------------------------- ----------- 307.2/435.3 kB 9.6 MB/s eta 0:00:01\n",
      "   ---------------------------------------- 435.3/435.3 kB 5.4 MB/s eta 0:00:00\n",
      "Downloading pydeck-0.9.1-py2.py3-none-any.whl (6.9 MB)\n",
      "   ---------------------------------------- 0.0/6.9 MB ? eta -:--:--\n",
      "   - -------------------------------------- 0.3/6.9 MB 9.9 MB/s eta 0:00:01\n",
      "   --- ------------------------------------ 0.7/6.9 MB 8.7 MB/s eta 0:00:01\n",
      "   ------ --------------------------------- 1.1/6.9 MB 8.8 MB/s eta 0:00:01\n",
      "   -------- ------------------------------- 1.5/6.9 MB 8.5 MB/s eta 0:00:01\n",
      "   ---------- ----------------------------- 1.8/6.9 MB 8.2 MB/s eta 0:00:01\n",
      "   ------------ --------------------------- 2.1/6.9 MB 8.3 MB/s eta 0:00:01\n",
      "   ------------- -------------------------- 2.3/6.9 MB 7.0 MB/s eta 0:00:01\n",
      "   --------------- ------------------------ 2.7/6.9 MB 7.6 MB/s eta 0:00:01\n",
      "   ----------------- ---------------------- 3.0/6.9 MB 7.4 MB/s eta 0:00:01\n",
      "   ------------------- -------------------- 3.4/6.9 MB 7.4 MB/s eta 0:00:01\n",
      "   --------------------- ------------------ 3.7/6.9 MB 7.3 MB/s eta 0:00:01\n",
      "   ---------------------- ----------------- 3.9/6.9 MB 7.4 MB/s eta 0:00:01\n",
      "   ---------------------- ----------------- 3.9/6.9 MB 7.4 MB/s eta 0:00:01\n",
      "   ---------------------- ----------------- 3.9/6.9 MB 7.4 MB/s eta 0:00:01\n",
      "   ---------------------- ----------------- 4.0/6.9 MB 5.8 MB/s eta 0:00:01\n",
      "   ------------------------ --------------- 4.2/6.9 MB 5.7 MB/s eta 0:00:01\n",
      "   -------------------------- ------------- 4.6/6.9 MB 5.9 MB/s eta 0:00:01\n",
      "   --------------------------- ------------ 4.8/6.9 MB 5.7 MB/s eta 0:00:01\n",
      "   ----------------------------- ---------- 5.2/6.9 MB 5.8 MB/s eta 0:00:01\n",
      "   ------------------------------- -------- 5.5/6.9 MB 5.9 MB/s eta 0:00:01\n",
      "   --------------------------------- ------ 5.7/6.9 MB 6.0 MB/s eta 0:00:01\n",
      "   ---------------------------------- ----- 5.9/6.9 MB 5.7 MB/s eta 0:00:01\n",
      "   ----------------------------------- ---- 6.2/6.9 MB 5.8 MB/s eta 0:00:01\n",
      "   -------------------------------------- - 6.7/6.9 MB 5.9 MB/s eta 0:00:01\n",
      "   ---------------------------------------  6.9/6.9 MB 6.0 MB/s eta 0:00:01\n",
      "   ---------------------------------------- 6.9/6.9 MB 5.8 MB/s eta 0:00:00\n",
      "Downloading gitdb-4.0.12-py3-none-any.whl (62 kB)\n",
      "   ---------------------------------------- 0.0/62.8 kB ? eta -:--:--\n",
      "   ---------------------------------------- 62.8/62.8 kB 3.3 MB/s eta 0:00:00\n",
      "Downloading narwhals-1.44.0-py3-none-any.whl (365 kB)\n",
      "   ---------------------------------------- 0.0/365.2 kB ? eta -:--:--\n",
      "   ---------------------------- ----------- 256.0/365.2 kB 7.7 MB/s eta 0:00:01\n",
      "   ---------------------------------------- 365.2/365.2 kB 7.6 MB/s eta 0:00:00\n",
      "Downloading smmap-5.0.2-py3-none-any.whl (24 kB)\n",
      "Installing collected packages: smmap, protobuf, narwhals, cachetools, blinker, pydeck, gitdb, altair, gitpython, streamlit\n",
      "Successfully installed altair-5.5.0 blinker-1.9.0 cachetools-6.1.0 gitdb-4.0.12 gitpython-3.1.44 narwhals-1.44.0 protobuf-6.31.1 pydeck-0.9.1 smmap-5.0.2 streamlit-1.46.1\n"
     ]
    },
    {
     "name": "stderr",
     "output_type": "stream",
     "text": [
      "  WARNING: The script streamlit.exe is installed in 'C:\\Users\\NAUSHAD\\AppData\\Roaming\\Python\\Python311\\Scripts' which is not on PATH.\n",
      "  Consider adding this directory to PATH or, if you prefer to suppress this warning, use --no-warn-script-location.\n"
     ]
    }
   ],
   "source": [
    "!pip install streamlit\n",
    "\n",
    "\n"
   ]
  },
  {
   "cell_type": "code",
   "execution_count": 27,
   "id": "0503ce5f",
   "metadata": {},
   "outputs": [
    {
     "name": "stdout",
     "output_type": "stream",
     "text": [
      "FAISS index and chunks saved successfully.\n"
     ]
    }
   ],
   "source": [
    "import os\n",
    "import faiss\n",
    "import numpy as np\n",
    "\n",
    "# 🔄 Create vectordb folder if it doesn't exist\n",
    "os.makedirs(\"vectordb\", exist_ok=True)\n",
    "\n",
    "# ✅ Build FAISS index\n",
    "dimension = embeddings.shape[1]\n",
    "index = faiss.IndexFlatL2(dimension)\n",
    "index.add(embeddings)\n",
    "\n",
    "# ✅ Save FAISS index and chunks\n",
    "faiss.write_index(index, \"vectordb/index.faiss\")\n",
    "np.save(\"vectordb/chunks.npy\", chunks)\n",
    "\n",
    "print(\"FAISS index and chunks saved successfully.\")\n"
   ]
  },
  {
   "cell_type": "code",
   "execution_count": null,
   "id": "c99dcd9a",
   "metadata": {},
   "outputs": [],
   "source": []
  }
 ],
 "metadata": {
  "kernelspec": {
   "display_name": "Python 3 (ipykernel)",
   "language": "python",
   "name": "python3"
  },
  "language_info": {
   "codemirror_mode": {
    "name": "ipython",
    "version": 3
   },
   "file_extension": ".py",
   "mimetype": "text/x-python",
   "name": "python",
   "nbconvert_exporter": "python",
   "pygments_lexer": "ipython3",
   "version": "3.11.4"
  }
 },
 "nbformat": 4,
 "nbformat_minor": 5
}
